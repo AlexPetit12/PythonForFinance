{
 "cells": [
  {
   "cell_type": "markdown",
   "metadata": {},
   "source": [
    "# Chapter 6 : Financial Time Series"
   ]
  },
  {
   "cell_type": "code",
   "execution_count": 1,
   "metadata": {
    "collapsed": true
   },
   "outputs": [],
   "source": [
    "import numpy as np\n",
    "import pandas as pd"
   ]
  },
  {
   "cell_type": "code",
   "execution_count": 2,
   "metadata": {
    "collapsed": false
   },
   "outputs": [
    {
     "data": {
      "text/html": [
       "<div>\n",
       "<table border=\"1\" class=\"dataframe\">\n",
       "  <thead>\n",
       "    <tr style=\"text-align: right;\">\n",
       "      <th></th>\n",
       "      <th>numbers</th>\n",
       "    </tr>\n",
       "  </thead>\n",
       "  <tbody>\n",
       "    <tr>\n",
       "      <th>a</th>\n",
       "      <td>10</td>\n",
       "    </tr>\n",
       "    <tr>\n",
       "      <th>b</th>\n",
       "      <td>20</td>\n",
       "    </tr>\n",
       "    <tr>\n",
       "      <th>c</th>\n",
       "      <td>30</td>\n",
       "    </tr>\n",
       "    <tr>\n",
       "      <th>d</th>\n",
       "      <td>40</td>\n",
       "    </tr>\n",
       "  </tbody>\n",
       "</table>\n",
       "</div>"
      ],
      "text/plain": [
       "   numbers\n",
       "a       10\n",
       "b       20\n",
       "c       30\n",
       "d       40"
      ]
     },
     "execution_count": 2,
     "metadata": {},
     "output_type": "execute_result"
    }
   ],
   "source": [
    "# First steps with DataFrame class\n",
    "df = pd.DataFrame([10, 20, 30, 40], columns=['numbers'],\n",
    "                  index=['a', 'b', 'c', 'd'])\n",
    "df"
   ]
  },
  {
   "cell_type": "code",
   "execution_count": 3,
   "metadata": {
    "collapsed": false
   },
   "outputs": [
    {
     "data": {
      "text/html": [
       "<div>\n",
       "<table border=\"1\" class=\"dataframe\">\n",
       "  <thead>\n",
       "    <tr style=\"text-align: right;\">\n",
       "      <th></th>\n",
       "      <th>numbers</th>\n",
       "      <th>floats</th>\n",
       "    </tr>\n",
       "  </thead>\n",
       "  <tbody>\n",
       "    <tr>\n",
       "      <th>a</th>\n",
       "      <td>10</td>\n",
       "      <td>1.5</td>\n",
       "    </tr>\n",
       "    <tr>\n",
       "      <th>b</th>\n",
       "      <td>20</td>\n",
       "      <td>2.5</td>\n",
       "    </tr>\n",
       "    <tr>\n",
       "      <th>c</th>\n",
       "      <td>30</td>\n",
       "      <td>3.5</td>\n",
       "    </tr>\n",
       "    <tr>\n",
       "      <th>d</th>\n",
       "      <td>40</td>\n",
       "      <td>4.5</td>\n",
       "    </tr>\n",
       "  </tbody>\n",
       "</table>\n",
       "</div>"
      ],
      "text/plain": [
       "   numbers  floats\n",
       "a       10     1.5\n",
       "b       20     2.5\n",
       "c       30     3.5\n",
       "d       40     4.5"
      ]
     },
     "execution_count": 3,
     "metadata": {},
     "output_type": "execute_result"
    }
   ],
   "source": [
    "# diffrent operations\n",
    "df.index\n",
    "df.columns\n",
    "df.ix['c']\n",
    "df.ix[['a', 'd']]\n",
    "df.ix[df.index[1:3]]\n",
    "df.sum()\n",
    "df.apply(lambda x: x ** 2)\n",
    "df ** 2\n",
    "df['floats'] = (1.5, 2.5, 3.5, 4.5) # add a column\n",
    "\n",
    "df"
   ]
  },
  {
   "cell_type": "code",
   "execution_count": 4,
   "metadata": {
    "collapsed": false
   },
   "outputs": [
    {
     "data": {
      "text/html": [
       "<div>\n",
       "<table border=\"1\" class=\"dataframe\">\n",
       "  <thead>\n",
       "    <tr style=\"text-align: right;\">\n",
       "      <th></th>\n",
       "      <th>numbers</th>\n",
       "      <th>floats</th>\n",
       "      <th>names</th>\n",
       "    </tr>\n",
       "  </thead>\n",
       "  <tbody>\n",
       "    <tr>\n",
       "      <th>a</th>\n",
       "      <td>10</td>\n",
       "      <td>1.5</td>\n",
       "      <td>Guido</td>\n",
       "    </tr>\n",
       "    <tr>\n",
       "      <th>b</th>\n",
       "      <td>20</td>\n",
       "      <td>2.5</td>\n",
       "      <td>Felix</td>\n",
       "    </tr>\n",
       "    <tr>\n",
       "      <th>c</th>\n",
       "      <td>30</td>\n",
       "      <td>3.5</td>\n",
       "      <td>Francesc</td>\n",
       "    </tr>\n",
       "    <tr>\n",
       "      <th>d</th>\n",
       "      <td>40</td>\n",
       "      <td>4.5</td>\n",
       "      <td>Yves</td>\n",
       "    </tr>\n",
       "  </tbody>\n",
       "</table>\n",
       "</div>"
      ],
      "text/plain": [
       "   numbers  floats     names\n",
       "a       10     1.5     Guido\n",
       "b       20     2.5     Felix\n",
       "c       30     3.5  Francesc\n",
       "d       40     4.5      Yves"
      ]
     },
     "execution_count": 4,
     "metadata": {},
     "output_type": "execute_result"
    }
   ],
   "source": [
    "df['names'] = pd.DataFrame(['Yves', 'Guido', 'Felix', 'Francesc'], # new column with indexes\n",
    "                           index=['d', 'a', 'b', 'c'])\n",
    "df"
   ]
  },
  {
   "cell_type": "code",
   "execution_count": 5,
   "metadata": {
    "collapsed": false
   },
   "outputs": [
    {
     "data": {
      "text/html": [
       "<div>\n",
       "<table border=\"1\" class=\"dataframe\">\n",
       "  <thead>\n",
       "    <tr style=\"text-align: right;\">\n",
       "      <th></th>\n",
       "      <th>floats</th>\n",
       "      <th>names</th>\n",
       "      <th>numbers</th>\n",
       "    </tr>\n",
       "  </thead>\n",
       "  <tbody>\n",
       "    <tr>\n",
       "      <th>a</th>\n",
       "      <td>1.50</td>\n",
       "      <td>Guido</td>\n",
       "      <td>10</td>\n",
       "    </tr>\n",
       "    <tr>\n",
       "      <th>b</th>\n",
       "      <td>2.50</td>\n",
       "      <td>Felix</td>\n",
       "      <td>20</td>\n",
       "    </tr>\n",
       "    <tr>\n",
       "      <th>c</th>\n",
       "      <td>3.50</td>\n",
       "      <td>Francesc</td>\n",
       "      <td>30</td>\n",
       "    </tr>\n",
       "    <tr>\n",
       "      <th>d</th>\n",
       "      <td>4.50</td>\n",
       "      <td>Yves</td>\n",
       "      <td>40</td>\n",
       "    </tr>\n",
       "    <tr>\n",
       "      <th>z</th>\n",
       "      <td>5.75</td>\n",
       "      <td>Henry</td>\n",
       "      <td>100</td>\n",
       "    </tr>\n",
       "  </tbody>\n",
       "</table>\n",
       "</div>"
      ],
      "text/plain": [
       "   floats     names  numbers\n",
       "a    1.50     Guido       10\n",
       "b    2.50     Felix       20\n",
       "c    3.50  Francesc       30\n",
       "d    4.50      Yves       40\n",
       "z    5.75     Henry      100"
      ]
     },
     "execution_count": 5,
     "metadata": {},
     "output_type": "execute_result"
    }
   ],
   "source": [
    "df = df.append(pd.DataFrame({'numbers' : 100, 'floats' : 5.75, 'names' : 'Henry'}, index=['z']))\n",
    "df"
   ]
  },
  {
   "cell_type": "code",
   "execution_count": 6,
   "metadata": {
    "collapsed": false
   },
   "outputs": [
    {
     "data": {
      "text/plain": [
       "array([[ 1.011641, -0.304186,  0.024755,  3.394042],\n",
       "       [ 1.545369,  0.218821,  0.190599, -2.576329],\n",
       "       [-1.987426, -0.148424,  0.323919,  0.341734],\n",
       "       [-0.513047,  0.521768, -1.194241, -0.110521],\n",
       "       [-0.443466,  0.630686,  0.315136, -0.657628],\n",
       "       [-1.205007, -0.035859,  0.169666, -1.185538],\n",
       "       [ 1.172253,  0.273801, -1.44025 ,  0.818351],\n",
       "       [-1.299767,  1.842547,  1.37156 ,  0.656075],\n",
       "       [-0.374157,  0.137424,  0.052277,  0.421359]])"
      ]
     },
     "execution_count": 6,
     "metadata": {},
     "output_type": "execute_result"
    }
   ],
   "source": [
    "# Second steps with DataFrame class\n",
    "a = np.random.standard_normal((9, 4))\n",
    "a.round(6)"
   ]
  },
  {
   "cell_type": "code",
   "execution_count": 7,
   "metadata": {
    "collapsed": false
   },
   "outputs": [
    {
     "data": {
      "text/html": [
       "<div>\n",
       "<table border=\"1\" class=\"dataframe\">\n",
       "  <thead>\n",
       "    <tr style=\"text-align: right;\">\n",
       "      <th></th>\n",
       "      <th>0</th>\n",
       "      <th>1</th>\n",
       "      <th>2</th>\n",
       "      <th>3</th>\n",
       "    </tr>\n",
       "  </thead>\n",
       "  <tbody>\n",
       "    <tr>\n",
       "      <th>0</th>\n",
       "      <td>1.011641</td>\n",
       "      <td>-0.304186</td>\n",
       "      <td>0.024755</td>\n",
       "      <td>3.394042</td>\n",
       "    </tr>\n",
       "    <tr>\n",
       "      <th>1</th>\n",
       "      <td>1.545369</td>\n",
       "      <td>0.218821</td>\n",
       "      <td>0.190599</td>\n",
       "      <td>-2.576329</td>\n",
       "    </tr>\n",
       "    <tr>\n",
       "      <th>2</th>\n",
       "      <td>-1.987426</td>\n",
       "      <td>-0.148424</td>\n",
       "      <td>0.323919</td>\n",
       "      <td>0.341734</td>\n",
       "    </tr>\n",
       "    <tr>\n",
       "      <th>3</th>\n",
       "      <td>-0.513047</td>\n",
       "      <td>0.521768</td>\n",
       "      <td>-1.194241</td>\n",
       "      <td>-0.110521</td>\n",
       "    </tr>\n",
       "    <tr>\n",
       "      <th>4</th>\n",
       "      <td>-0.443466</td>\n",
       "      <td>0.630686</td>\n",
       "      <td>0.315136</td>\n",
       "      <td>-0.657628</td>\n",
       "    </tr>\n",
       "    <tr>\n",
       "      <th>5</th>\n",
       "      <td>-1.205007</td>\n",
       "      <td>-0.035859</td>\n",
       "      <td>0.169666</td>\n",
       "      <td>-1.185538</td>\n",
       "    </tr>\n",
       "    <tr>\n",
       "      <th>6</th>\n",
       "      <td>1.172253</td>\n",
       "      <td>0.273801</td>\n",
       "      <td>-1.440250</td>\n",
       "      <td>0.818351</td>\n",
       "    </tr>\n",
       "    <tr>\n",
       "      <th>7</th>\n",
       "      <td>-1.299767</td>\n",
       "      <td>1.842547</td>\n",
       "      <td>1.371560</td>\n",
       "      <td>0.656075</td>\n",
       "    </tr>\n",
       "    <tr>\n",
       "      <th>8</th>\n",
       "      <td>-0.374157</td>\n",
       "      <td>0.137424</td>\n",
       "      <td>0.052277</td>\n",
       "      <td>0.421359</td>\n",
       "    </tr>\n",
       "  </tbody>\n",
       "</table>\n",
       "</div>"
      ],
      "text/plain": [
       "          0         1         2         3\n",
       "0  1.011641 -0.304186  0.024755  3.394042\n",
       "1  1.545369  0.218821  0.190599 -2.576329\n",
       "2 -1.987426 -0.148424  0.323919  0.341734\n",
       "3 -0.513047  0.521768 -1.194241 -0.110521\n",
       "4 -0.443466  0.630686  0.315136 -0.657628\n",
       "5 -1.205007 -0.035859  0.169666 -1.185538\n",
       "6  1.172253  0.273801 -1.440250  0.818351\n",
       "7 -1.299767  1.842547  1.371560  0.656075\n",
       "8 -0.374157  0.137424  0.052277  0.421359"
      ]
     },
     "execution_count": 7,
     "metadata": {},
     "output_type": "execute_result"
    }
   ],
   "source": [
    "df = pd.DataFrame(a)\n",
    "df"
   ]
  },
  {
   "cell_type": "code",
   "execution_count": 8,
   "metadata": {
    "collapsed": false
   },
   "outputs": [
    {
     "data": {
      "text/html": [
       "<div>\n",
       "<table border=\"1\" class=\"dataframe\">\n",
       "  <thead>\n",
       "    <tr style=\"text-align: right;\">\n",
       "      <th></th>\n",
       "      <th>No1</th>\n",
       "      <th>No2</th>\n",
       "      <th>No3</th>\n",
       "      <th>No4</th>\n",
       "    </tr>\n",
       "  </thead>\n",
       "  <tbody>\n",
       "    <tr>\n",
       "      <th>0</th>\n",
       "      <td>1.011641</td>\n",
       "      <td>-0.304186</td>\n",
       "      <td>0.024755</td>\n",
       "      <td>3.394042</td>\n",
       "    </tr>\n",
       "    <tr>\n",
       "      <th>1</th>\n",
       "      <td>1.545369</td>\n",
       "      <td>0.218821</td>\n",
       "      <td>0.190599</td>\n",
       "      <td>-2.576329</td>\n",
       "    </tr>\n",
       "    <tr>\n",
       "      <th>2</th>\n",
       "      <td>-1.987426</td>\n",
       "      <td>-0.148424</td>\n",
       "      <td>0.323919</td>\n",
       "      <td>0.341734</td>\n",
       "    </tr>\n",
       "    <tr>\n",
       "      <th>3</th>\n",
       "      <td>-0.513047</td>\n",
       "      <td>0.521768</td>\n",
       "      <td>-1.194241</td>\n",
       "      <td>-0.110521</td>\n",
       "    </tr>\n",
       "    <tr>\n",
       "      <th>4</th>\n",
       "      <td>-0.443466</td>\n",
       "      <td>0.630686</td>\n",
       "      <td>0.315136</td>\n",
       "      <td>-0.657628</td>\n",
       "    </tr>\n",
       "    <tr>\n",
       "      <th>5</th>\n",
       "      <td>-1.205007</td>\n",
       "      <td>-0.035859</td>\n",
       "      <td>0.169666</td>\n",
       "      <td>-1.185538</td>\n",
       "    </tr>\n",
       "    <tr>\n",
       "      <th>6</th>\n",
       "      <td>1.172253</td>\n",
       "      <td>0.273801</td>\n",
       "      <td>-1.440250</td>\n",
       "      <td>0.818351</td>\n",
       "    </tr>\n",
       "    <tr>\n",
       "      <th>7</th>\n",
       "      <td>-1.299767</td>\n",
       "      <td>1.842547</td>\n",
       "      <td>1.371560</td>\n",
       "      <td>0.656075</td>\n",
       "    </tr>\n",
       "    <tr>\n",
       "      <th>8</th>\n",
       "      <td>-0.374157</td>\n",
       "      <td>0.137424</td>\n",
       "      <td>0.052277</td>\n",
       "      <td>0.421359</td>\n",
       "    </tr>\n",
       "  </tbody>\n",
       "</table>\n",
       "</div>"
      ],
      "text/plain": [
       "        No1       No2       No3       No4\n",
       "0  1.011641 -0.304186  0.024755  3.394042\n",
       "1  1.545369  0.218821  0.190599 -2.576329\n",
       "2 -1.987426 -0.148424  0.323919  0.341734\n",
       "3 -0.513047  0.521768 -1.194241 -0.110521\n",
       "4 -0.443466  0.630686  0.315136 -0.657628\n",
       "5 -1.205007 -0.035859  0.169666 -1.185538\n",
       "6  1.172253  0.273801 -1.440250  0.818351\n",
       "7 -1.299767  1.842547  1.371560  0.656075\n",
       "8 -0.374157  0.137424  0.052277  0.421359"
      ]
     },
     "execution_count": 8,
     "metadata": {},
     "output_type": "execute_result"
    }
   ],
   "source": [
    "df.columns = [['No1', 'No2', 'No3', 'No4']]\n",
    "df"
   ]
  },
  {
   "cell_type": "code",
   "execution_count": 9,
   "metadata": {
    "collapsed": false
   },
   "outputs": [
    {
     "data": {
      "text/plain": [
       "0.52176801295927366"
      ]
     },
     "execution_count": 9,
     "metadata": {},
     "output_type": "execute_result"
    }
   ],
   "source": [
    "df['No2'][3] # value in column No2 at position index 3"
   ]
  },
  {
   "cell_type": "code",
   "execution_count": 10,
   "metadata": {
    "collapsed": false
   },
   "outputs": [
    {
     "data": {
      "text/plain": [
       "DatetimeIndex(['2015-01-31', '2015-02-28', '2015-03-31', '2015-04-30',\n",
       "               '2015-05-31', '2015-06-30', '2015-07-31', '2015-08-31',\n",
       "               '2015-09-30'],\n",
       "              dtype='datetime64[ns]', freq='M')"
      ]
     },
     "execution_count": 10,
     "metadata": {},
     "output_type": "execute_result"
    }
   ],
   "source": [
    "dates = pd.date_range('2015-1-1', periods=9, freq='M')\n",
    "dates"
   ]
  },
  {
   "cell_type": "code",
   "execution_count": 11,
   "metadata": {
    "collapsed": false
   },
   "outputs": [
    {
     "data": {
      "text/html": [
       "<div>\n",
       "<table border=\"1\" class=\"dataframe\">\n",
       "  <thead>\n",
       "    <tr style=\"text-align: right;\">\n",
       "      <th></th>\n",
       "      <th>No1</th>\n",
       "      <th>No2</th>\n",
       "      <th>No3</th>\n",
       "      <th>No4</th>\n",
       "    </tr>\n",
       "  </thead>\n",
       "  <tbody>\n",
       "    <tr>\n",
       "      <th>2015-01-31</th>\n",
       "      <td>1.011641</td>\n",
       "      <td>-0.304186</td>\n",
       "      <td>0.024755</td>\n",
       "      <td>3.394042</td>\n",
       "    </tr>\n",
       "    <tr>\n",
       "      <th>2015-02-28</th>\n",
       "      <td>1.545369</td>\n",
       "      <td>0.218821</td>\n",
       "      <td>0.190599</td>\n",
       "      <td>-2.576329</td>\n",
       "    </tr>\n",
       "    <tr>\n",
       "      <th>2015-03-31</th>\n",
       "      <td>-1.987426</td>\n",
       "      <td>-0.148424</td>\n",
       "      <td>0.323919</td>\n",
       "      <td>0.341734</td>\n",
       "    </tr>\n",
       "    <tr>\n",
       "      <th>2015-04-30</th>\n",
       "      <td>-0.513047</td>\n",
       "      <td>0.521768</td>\n",
       "      <td>-1.194241</td>\n",
       "      <td>-0.110521</td>\n",
       "    </tr>\n",
       "    <tr>\n",
       "      <th>2015-05-31</th>\n",
       "      <td>-0.443466</td>\n",
       "      <td>0.630686</td>\n",
       "      <td>0.315136</td>\n",
       "      <td>-0.657628</td>\n",
       "    </tr>\n",
       "    <tr>\n",
       "      <th>2015-06-30</th>\n",
       "      <td>-1.205007</td>\n",
       "      <td>-0.035859</td>\n",
       "      <td>0.169666</td>\n",
       "      <td>-1.185538</td>\n",
       "    </tr>\n",
       "    <tr>\n",
       "      <th>2015-07-31</th>\n",
       "      <td>1.172253</td>\n",
       "      <td>0.273801</td>\n",
       "      <td>-1.440250</td>\n",
       "      <td>0.818351</td>\n",
       "    </tr>\n",
       "    <tr>\n",
       "      <th>2015-08-31</th>\n",
       "      <td>-1.299767</td>\n",
       "      <td>1.842547</td>\n",
       "      <td>1.371560</td>\n",
       "      <td>0.656075</td>\n",
       "    </tr>\n",
       "    <tr>\n",
       "      <th>2015-09-30</th>\n",
       "      <td>-0.374157</td>\n",
       "      <td>0.137424</td>\n",
       "      <td>0.052277</td>\n",
       "      <td>0.421359</td>\n",
       "    </tr>\n",
       "  </tbody>\n",
       "</table>\n",
       "</div>"
      ],
      "text/plain": [
       "                 No1       No2       No3       No4\n",
       "2015-01-31  1.011641 -0.304186  0.024755  3.394042\n",
       "2015-02-28  1.545369  0.218821  0.190599 -2.576329\n",
       "2015-03-31 -1.987426 -0.148424  0.323919  0.341734\n",
       "2015-04-30 -0.513047  0.521768 -1.194241 -0.110521\n",
       "2015-05-31 -0.443466  0.630686  0.315136 -0.657628\n",
       "2015-06-30 -1.205007 -0.035859  0.169666 -1.185538\n",
       "2015-07-31  1.172253  0.273801 -1.440250  0.818351\n",
       "2015-08-31 -1.299767  1.842547  1.371560  0.656075\n",
       "2015-09-30 -0.374157  0.137424  0.052277  0.421359"
      ]
     },
     "execution_count": 11,
     "metadata": {},
     "output_type": "execute_result"
    }
   ],
   "source": [
    "df.index = dates\n",
    "df"
   ]
  },
  {
   "cell_type": "code",
   "execution_count": 12,
   "metadata": {
    "collapsed": false
   },
   "outputs": [
    {
     "data": {
      "text/plain": [
       "array([[ 1.011641, -0.304186,  0.024755,  3.394042],\n",
       "       [ 1.545369,  0.218821,  0.190599, -2.576329],\n",
       "       [-1.987426, -0.148424,  0.323919,  0.341734],\n",
       "       [-0.513047,  0.521768, -1.194241, -0.110521],\n",
       "       [-0.443466,  0.630686,  0.315136, -0.657628],\n",
       "       [-1.205007, -0.035859,  0.169666, -1.185538],\n",
       "       [ 1.172253,  0.273801, -1.44025 ,  0.818351],\n",
       "       [-1.299767,  1.842547,  1.37156 ,  0.656075],\n",
       "       [-0.374157,  0.137424,  0.052277,  0.421359]])"
      ]
     },
     "execution_count": 12,
     "metadata": {},
     "output_type": "execute_result"
    }
   ],
   "source": [
    "# the other way around\n",
    "np.array(df).round(6)"
   ]
  },
  {
   "cell_type": "code",
   "execution_count": 13,
   "metadata": {
    "collapsed": false
   },
   "outputs": [
    {
     "data": {
      "text/html": [
       "<div>\n",
       "<table border=\"1\" class=\"dataframe\">\n",
       "  <thead>\n",
       "    <tr style=\"text-align: right;\">\n",
       "      <th></th>\n",
       "      <th>No1</th>\n",
       "      <th>No2</th>\n",
       "      <th>No3</th>\n",
       "      <th>No4</th>\n",
       "    </tr>\n",
       "  </thead>\n",
       "  <tbody>\n",
       "    <tr>\n",
       "      <th>count</th>\n",
       "      <td>9.000000</td>\n",
       "      <td>9.000000</td>\n",
       "      <td>9.000000</td>\n",
       "      <td>9.000000</td>\n",
       "    </tr>\n",
       "    <tr>\n",
       "      <th>mean</th>\n",
       "      <td>-0.232623</td>\n",
       "      <td>0.348509</td>\n",
       "      <td>-0.020731</td>\n",
       "      <td>0.122394</td>\n",
       "    </tr>\n",
       "    <tr>\n",
       "      <th>std</th>\n",
       "      <td>1.224230</td>\n",
       "      <td>0.635358</td>\n",
       "      <td>0.840427</td>\n",
       "      <td>1.630445</td>\n",
       "    </tr>\n",
       "    <tr>\n",
       "      <th>min</th>\n",
       "      <td>-1.987426</td>\n",
       "      <td>-0.304186</td>\n",
       "      <td>-1.440250</td>\n",
       "      <td>-2.576329</td>\n",
       "    </tr>\n",
       "    <tr>\n",
       "      <th>25%</th>\n",
       "      <td>-1.205007</td>\n",
       "      <td>-0.035859</td>\n",
       "      <td>0.024755</td>\n",
       "      <td>-0.657628</td>\n",
       "    </tr>\n",
       "    <tr>\n",
       "      <th>50%</th>\n",
       "      <td>-0.443466</td>\n",
       "      <td>0.218821</td>\n",
       "      <td>0.169666</td>\n",
       "      <td>0.341734</td>\n",
       "    </tr>\n",
       "    <tr>\n",
       "      <th>75%</th>\n",
       "      <td>1.011641</td>\n",
       "      <td>0.521768</td>\n",
       "      <td>0.315136</td>\n",
       "      <td>0.656075</td>\n",
       "    </tr>\n",
       "    <tr>\n",
       "      <th>max</th>\n",
       "      <td>1.545369</td>\n",
       "      <td>1.842547</td>\n",
       "      <td>1.371560</td>\n",
       "      <td>3.394042</td>\n",
       "    </tr>\n",
       "  </tbody>\n",
       "</table>\n",
       "</div>"
      ],
      "text/plain": [
       "            No1       No2       No3       No4\n",
       "count  9.000000  9.000000  9.000000  9.000000\n",
       "mean  -0.232623  0.348509 -0.020731  0.122394\n",
       "std    1.224230  0.635358  0.840427  1.630445\n",
       "min   -1.987426 -0.304186 -1.440250 -2.576329\n",
       "25%   -1.205007 -0.035859  0.024755 -0.657628\n",
       "50%   -0.443466  0.218821  0.169666  0.341734\n",
       "75%    1.011641  0.521768  0.315136  0.656075\n",
       "max    1.545369  1.842547  1.371560  3.394042"
      ]
     },
     "execution_count": 13,
     "metadata": {},
     "output_type": "execute_result"
    }
   ],
   "source": [
    "# Basic analytics\n",
    "df.sum()\n",
    "df.mean()\n",
    "df.cumsum()\n",
    "df.describe()"
   ]
  },
  {
   "cell_type": "code",
   "execution_count": 14,
   "metadata": {
    "collapsed": false
   },
   "outputs": [
    {
     "data": {
      "text/plain": [
       "<matplotlib.axes._subplots.AxesSubplot at 0x7fdb0a797160>"
      ]
     },
     "execution_count": 14,
     "metadata": {},
     "output_type": "execute_result"
    },
    {
     "data": {
      "image/png": "[encoded data removed]",
      "text/plain": [
       "<matplotlib.figure.Figure at 0x7fdb0cb6d4e0>"
      ]
     },
     "metadata": {},
     "output_type": "display_data"
    }
   ],
   "source": [
    "%matplotlib inline\n",
    "df.cumsum().plot(lw=2.0)"
   ]
  },
  {
   "cell_type": "code",
   "execution_count": 15,
   "metadata": {
    "collapsed": false
   },
   "outputs": [
    {
     "data": {
      "text/plain": [
       "pandas.core.series.Series"
      ]
     },
     "execution_count": 15,
     "metadata": {},
     "output_type": "execute_result"
    }
   ],
   "source": [
    "# Series\n",
    "type(df['No1'])"
   ]
  },
  {
   "cell_type": "code",
   "execution_count": 16,
   "metadata": {
    "collapsed": false
   },
   "outputs": [
    {
     "data": {
      "text/plain": [
       "<matplotlib.text.Text at 0x7fdb0869f9e8>"
      ]
     },
     "execution_count": 16,
     "metadata": {},
     "output_type": "execute_result"
    },
    {
     "data": {
      "image/png": "[encoded data removed]",
      "text/plain": [
       "<matplotlib.figure.Figure at 0x7fdb08682c50>"
      ]
     },
     "metadata": {},
     "output_type": "display_data"
    }
   ],
   "source": [
    "import matplotlib.pyplot as plt\n",
    "df['No1'].cumsum().plot(style='r', lw=2.0)\n",
    "plt.xlabel('date')\n",
    "plt.ylabel('value')"
   ]
  },
  {
   "cell_type": "code",
   "execution_count": 17,
   "metadata": {
    "collapsed": false
   },
   "outputs": [
    {
     "data": {
      "text/html": [
       "<div>\n",
       "<table border=\"1\" class=\"dataframe\">\n",
       "  <thead>\n",
       "    <tr style=\"text-align: right;\">\n",
       "      <th></th>\n",
       "      <th>No1</th>\n",
       "      <th>No2</th>\n",
       "      <th>No3</th>\n",
       "      <th>No4</th>\n",
       "      <th>Quarter</th>\n",
       "    </tr>\n",
       "  </thead>\n",
       "  <tbody>\n",
       "    <tr>\n",
       "      <th>2015-01-31</th>\n",
       "      <td>1.011641</td>\n",
       "      <td>-0.304186</td>\n",
       "      <td>0.024755</td>\n",
       "      <td>3.394042</td>\n",
       "      <td>Q1</td>\n",
       "    </tr>\n",
       "    <tr>\n",
       "      <th>2015-02-28</th>\n",
       "      <td>1.545369</td>\n",
       "      <td>0.218821</td>\n",
       "      <td>0.190599</td>\n",
       "      <td>-2.576329</td>\n",
       "      <td>Q1</td>\n",
       "    </tr>\n",
       "    <tr>\n",
       "      <th>2015-03-31</th>\n",
       "      <td>-1.987426</td>\n",
       "      <td>-0.148424</td>\n",
       "      <td>0.323919</td>\n",
       "      <td>0.341734</td>\n",
       "      <td>Q1</td>\n",
       "    </tr>\n",
       "    <tr>\n",
       "      <th>2015-04-30</th>\n",
       "      <td>-0.513047</td>\n",
       "      <td>0.521768</td>\n",
       "      <td>-1.194241</td>\n",
       "      <td>-0.110521</td>\n",
       "      <td>Q2</td>\n",
       "    </tr>\n",
       "    <tr>\n",
       "      <th>2015-05-31</th>\n",
       "      <td>-0.443466</td>\n",
       "      <td>0.630686</td>\n",
       "      <td>0.315136</td>\n",
       "      <td>-0.657628</td>\n",
       "      <td>Q2</td>\n",
       "    </tr>\n",
       "    <tr>\n",
       "      <th>2015-06-30</th>\n",
       "      <td>-1.205007</td>\n",
       "      <td>-0.035859</td>\n",
       "      <td>0.169666</td>\n",
       "      <td>-1.185538</td>\n",
       "      <td>Q2</td>\n",
       "    </tr>\n",
       "    <tr>\n",
       "      <th>2015-07-31</th>\n",
       "      <td>1.172253</td>\n",
       "      <td>0.273801</td>\n",
       "      <td>-1.440250</td>\n",
       "      <td>0.818351</td>\n",
       "      <td>Q3</td>\n",
       "    </tr>\n",
       "    <tr>\n",
       "      <th>2015-08-31</th>\n",
       "      <td>-1.299767</td>\n",
       "      <td>1.842547</td>\n",
       "      <td>1.371560</td>\n",
       "      <td>0.656075</td>\n",
       "      <td>Q3</td>\n",
       "    </tr>\n",
       "    <tr>\n",
       "      <th>2015-09-30</th>\n",
       "      <td>-0.374157</td>\n",
       "      <td>0.137424</td>\n",
       "      <td>0.052277</td>\n",
       "      <td>0.421359</td>\n",
       "      <td>Q3</td>\n",
       "    </tr>\n",
       "  </tbody>\n",
       "</table>\n",
       "</div>"
      ],
      "text/plain": [
       "                 No1       No2       No3       No4 Quarter\n",
       "2015-01-31  1.011641 -0.304186  0.024755  3.394042      Q1\n",
       "2015-02-28  1.545369  0.218821  0.190599 -2.576329      Q1\n",
       "2015-03-31 -1.987426 -0.148424  0.323919  0.341734      Q1\n",
       "2015-04-30 -0.513047  0.521768 -1.194241 -0.110521      Q2\n",
       "2015-05-31 -0.443466  0.630686  0.315136 -0.657628      Q2\n",
       "2015-06-30 -1.205007 -0.035859  0.169666 -1.185538      Q2\n",
       "2015-07-31  1.172253  0.273801 -1.440250  0.818351      Q3\n",
       "2015-08-31 -1.299767  1.842547  1.371560  0.656075      Q3\n",
       "2015-09-30 -0.374157  0.137424  0.052277  0.421359      Q3"
      ]
     },
     "execution_count": 17,
     "metadata": {},
     "output_type": "execute_result"
    }
   ],
   "source": [
    "# GroupBy operations\n",
    "df['Quarter'] = ['Q1', 'Q1', 'Q1', 'Q2', 'Q2', 'Q2', 'Q3', 'Q3', 'Q3']\n",
    "df"
   ]
  },
  {
   "cell_type": "code",
   "execution_count": 18,
   "metadata": {
    "collapsed": false
   },
   "outputs": [
    {
     "data": {
      "text/html": [
       "<div>\n",
       "<table border=\"1\" class=\"dataframe\">\n",
       "  <thead>\n",
       "    <tr style=\"text-align: right;\">\n",
       "      <th></th>\n",
       "      <th>No1</th>\n",
       "      <th>No2</th>\n",
       "      <th>No3</th>\n",
       "      <th>No4</th>\n",
       "    </tr>\n",
       "    <tr>\n",
       "      <th>Quarter</th>\n",
       "      <th></th>\n",
       "      <th></th>\n",
       "      <th></th>\n",
       "      <th></th>\n",
       "    </tr>\n",
       "  </thead>\n",
       "  <tbody>\n",
       "    <tr>\n",
       "      <th>Q1</th>\n",
       "      <td>0.189861</td>\n",
       "      <td>-0.077930</td>\n",
       "      <td>0.179758</td>\n",
       "      <td>0.386482</td>\n",
       "    </tr>\n",
       "    <tr>\n",
       "      <th>Q2</th>\n",
       "      <td>-0.720507</td>\n",
       "      <td>0.372199</td>\n",
       "      <td>-0.236480</td>\n",
       "      <td>-0.651229</td>\n",
       "    </tr>\n",
       "    <tr>\n",
       "      <th>Q3</th>\n",
       "      <td>-0.167223</td>\n",
       "      <td>0.751257</td>\n",
       "      <td>-0.005471</td>\n",
       "      <td>0.631928</td>\n",
       "    </tr>\n",
       "  </tbody>\n",
       "</table>\n",
       "</div>"
      ],
      "text/plain": [
       "              No1       No2       No3       No4\n",
       "Quarter                                        \n",
       "Q1       0.189861 -0.077930  0.179758  0.386482\n",
       "Q2      -0.720507  0.372199 -0.236480 -0.651229\n",
       "Q3      -0.167223  0.751257 -0.005471  0.631928"
      ]
     },
     "execution_count": 18,
     "metadata": {},
     "output_type": "execute_result"
    }
   ],
   "source": [
    "groups = df.groupby('Quarter')\n",
    "groups.mean()"
   ]
  },
  {
   "cell_type": "code",
   "execution_count": 19,
   "metadata": {
    "collapsed": false
   },
   "outputs": [
    {
     "data": {
      "text/html": [
       "<div>\n",
       "<table border=\"1\" class=\"dataframe\">\n",
       "  <thead>\n",
       "    <tr style=\"text-align: right;\">\n",
       "      <th></th>\n",
       "      <th>No1</th>\n",
       "      <th>No2</th>\n",
       "      <th>No3</th>\n",
       "      <th>No4</th>\n",
       "    </tr>\n",
       "    <tr>\n",
       "      <th>Quarter</th>\n",
       "      <th></th>\n",
       "      <th></th>\n",
       "      <th></th>\n",
       "      <th></th>\n",
       "    </tr>\n",
       "  </thead>\n",
       "  <tbody>\n",
       "    <tr>\n",
       "      <th>Q1</th>\n",
       "      <td>1.545369</td>\n",
       "      <td>0.218821</td>\n",
       "      <td>0.323919</td>\n",
       "      <td>3.394042</td>\n",
       "    </tr>\n",
       "    <tr>\n",
       "      <th>Q2</th>\n",
       "      <td>-0.443466</td>\n",
       "      <td>0.630686</td>\n",
       "      <td>0.315136</td>\n",
       "      <td>-0.110521</td>\n",
       "    </tr>\n",
       "    <tr>\n",
       "      <th>Q3</th>\n",
       "      <td>1.172253</td>\n",
       "      <td>1.842547</td>\n",
       "      <td>1.371560</td>\n",
       "      <td>0.818351</td>\n",
       "    </tr>\n",
       "  </tbody>\n",
       "</table>\n",
       "</div>"
      ],
      "text/plain": [
       "              No1       No2       No3       No4\n",
       "Quarter                                        \n",
       "Q1       1.545369  0.218821  0.323919  3.394042\n",
       "Q2      -0.443466  0.630686  0.315136 -0.110521\n",
       "Q3       1.172253  1.842547  1.371560  0.818351"
      ]
     },
     "execution_count": 19,
     "metadata": {},
     "output_type": "execute_result"
    }
   ],
   "source": [
    "groups.max()"
   ]
  },
  {
   "cell_type": "code",
   "execution_count": 20,
   "metadata": {
    "collapsed": false
   },
   "outputs": [
    {
     "data": {
      "text/html": [
       "<div>\n",
       "<table border=\"1\" class=\"dataframe\">\n",
       "  <thead>\n",
       "    <tr style=\"text-align: right;\">\n",
       "      <th></th>\n",
       "      <th></th>\n",
       "      <th>No1</th>\n",
       "      <th>No2</th>\n",
       "      <th>No3</th>\n",
       "      <th>No4</th>\n",
       "    </tr>\n",
       "    <tr>\n",
       "      <th>Quarter</th>\n",
       "      <th></th>\n",
       "      <th></th>\n",
       "      <th></th>\n",
       "      <th></th>\n",
       "      <th></th>\n",
       "    </tr>\n",
       "  </thead>\n",
       "  <tbody>\n",
       "    <tr>\n",
       "      <th rowspan=\"8\" valign=\"top\">Q1</th>\n",
       "      <th>count</th>\n",
       "      <td>3.000000</td>\n",
       "      <td>3.000000</td>\n",
       "      <td>3.000000</td>\n",
       "      <td>3.000000</td>\n",
       "    </tr>\n",
       "    <tr>\n",
       "      <th>mean</th>\n",
       "      <td>0.189861</td>\n",
       "      <td>-0.077930</td>\n",
       "      <td>0.179758</td>\n",
       "      <td>0.386482</td>\n",
       "    </tr>\n",
       "    <tr>\n",
       "      <th>std</th>\n",
       "      <td>1.904377</td>\n",
       "      <td>0.268535</td>\n",
       "      <td>0.149876</td>\n",
       "      <td>2.985437</td>\n",
       "    </tr>\n",
       "    <tr>\n",
       "      <th>min</th>\n",
       "      <td>-1.987426</td>\n",
       "      <td>-0.304186</td>\n",
       "      <td>0.024755</td>\n",
       "      <td>-2.576329</td>\n",
       "    </tr>\n",
       "    <tr>\n",
       "      <th>25%</th>\n",
       "      <td>-0.487893</td>\n",
       "      <td>-0.226305</td>\n",
       "      <td>0.107677</td>\n",
       "      <td>-1.117297</td>\n",
       "    </tr>\n",
       "    <tr>\n",
       "      <th>50%</th>\n",
       "      <td>1.011641</td>\n",
       "      <td>-0.148424</td>\n",
       "      <td>0.190599</td>\n",
       "      <td>0.341734</td>\n",
       "    </tr>\n",
       "    <tr>\n",
       "      <th>75%</th>\n",
       "      <td>1.278505</td>\n",
       "      <td>0.035198</td>\n",
       "      <td>0.257259</td>\n",
       "      <td>1.867888</td>\n",
       "    </tr>\n",
       "    <tr>\n",
       "      <th>max</th>\n",
       "      <td>1.545369</td>\n",
       "      <td>0.218821</td>\n",
       "      <td>0.323919</td>\n",
       "      <td>3.394042</td>\n",
       "    </tr>\n",
       "    <tr>\n",
       "      <th rowspan=\"8\" valign=\"top\">Q2</th>\n",
       "      <th>count</th>\n",
       "      <td>3.000000</td>\n",
       "      <td>3.000000</td>\n",
       "      <td>3.000000</td>\n",
       "      <td>3.000000</td>\n",
       "    </tr>\n",
       "    <tr>\n",
       "      <th>mean</th>\n",
       "      <td>-0.720507</td>\n",
       "      <td>0.372199</td>\n",
       "      <td>-0.236480</td>\n",
       "      <td>-0.651229</td>\n",
       "    </tr>\n",
       "    <tr>\n",
       "      <th>std</th>\n",
       "      <td>0.421029</td>\n",
       "      <td>0.357560</td>\n",
       "      <td>0.832629</td>\n",
       "      <td>0.537537</td>\n",
       "    </tr>\n",
       "    <tr>\n",
       "      <th>min</th>\n",
       "      <td>-1.205007</td>\n",
       "      <td>-0.035859</td>\n",
       "      <td>-1.194241</td>\n",
       "      <td>-1.185538</td>\n",
       "    </tr>\n",
       "    <tr>\n",
       "      <th>25%</th>\n",
       "      <td>-0.859027</td>\n",
       "      <td>0.242955</td>\n",
       "      <td>-0.512287</td>\n",
       "      <td>-0.921583</td>\n",
       "    </tr>\n",
       "    <tr>\n",
       "      <th>50%</th>\n",
       "      <td>-0.513047</td>\n",
       "      <td>0.521768</td>\n",
       "      <td>0.169666</td>\n",
       "      <td>-0.657628</td>\n",
       "    </tr>\n",
       "    <tr>\n",
       "      <th>75%</th>\n",
       "      <td>-0.478257</td>\n",
       "      <td>0.576227</td>\n",
       "      <td>0.242401</td>\n",
       "      <td>-0.384075</td>\n",
       "    </tr>\n",
       "    <tr>\n",
       "      <th>max</th>\n",
       "      <td>-0.443466</td>\n",
       "      <td>0.630686</td>\n",
       "      <td>0.315136</td>\n",
       "      <td>-0.110521</td>\n",
       "    </tr>\n",
       "    <tr>\n",
       "      <th rowspan=\"8\" valign=\"top\">Q3</th>\n",
       "      <th>count</th>\n",
       "      <td>3.000000</td>\n",
       "      <td>3.000000</td>\n",
       "      <td>3.000000</td>\n",
       "      <td>3.000000</td>\n",
       "    </tr>\n",
       "    <tr>\n",
       "      <th>mean</th>\n",
       "      <td>-0.167223</td>\n",
       "      <td>0.751257</td>\n",
       "      <td>-0.005471</td>\n",
       "      <td>0.631928</td>\n",
       "    </tr>\n",
       "    <tr>\n",
       "      <th>std</th>\n",
       "      <td>1.248934</td>\n",
       "      <td>0.947541</td>\n",
       "      <td>1.406794</td>\n",
       "      <td>0.199594</td>\n",
       "    </tr>\n",
       "    <tr>\n",
       "      <th>min</th>\n",
       "      <td>-1.299767</td>\n",
       "      <td>0.137424</td>\n",
       "      <td>-1.440250</td>\n",
       "      <td>0.421359</td>\n",
       "    </tr>\n",
       "    <tr>\n",
       "      <th>25%</th>\n",
       "      <td>-0.836962</td>\n",
       "      <td>0.205613</td>\n",
       "      <td>-0.693987</td>\n",
       "      <td>0.538717</td>\n",
       "    </tr>\n",
       "    <tr>\n",
       "      <th>50%</th>\n",
       "      <td>-0.374157</td>\n",
       "      <td>0.273801</td>\n",
       "      <td>0.052277</td>\n",
       "      <td>0.656075</td>\n",
       "    </tr>\n",
       "    <tr>\n",
       "      <th>75%</th>\n",
       "      <td>0.399048</td>\n",
       "      <td>1.058174</td>\n",
       "      <td>0.711918</td>\n",
       "      <td>0.737213</td>\n",
       "    </tr>\n",
       "    <tr>\n",
       "      <th>max</th>\n",
       "      <td>1.172253</td>\n",
       "      <td>1.842547</td>\n",
       "      <td>1.371560</td>\n",
       "      <td>0.818351</td>\n",
       "    </tr>\n",
       "  </tbody>\n",
       "</table>\n",
       "</div>"
      ],
      "text/plain": [
       "                    No1       No2       No3       No4\n",
       "Quarter                                              \n",
       "Q1      count  3.000000  3.000000  3.000000  3.000000\n",
       "        mean   0.189861 -0.077930  0.179758  0.386482\n",
       "        std    1.904377  0.268535  0.149876  2.985437\n",
       "        min   -1.987426 -0.304186  0.024755 -2.576329\n",
       "        25%   -0.487893 -0.226305  0.107677 -1.117297\n",
       "        50%    1.011641 -0.148424  0.190599  0.341734\n",
       "        75%    1.278505  0.035198  0.257259  1.867888\n",
       "        max    1.545369  0.218821  0.323919  3.394042\n",
       "Q2      count  3.000000  3.000000  3.000000  3.000000\n",
       "        mean  -0.720507  0.372199 -0.236480 -0.651229\n",
       "        std    0.421029  0.357560  0.832629  0.537537\n",
       "        min   -1.205007 -0.035859 -1.194241 -1.185538\n",
       "        25%   -0.859027  0.242955 -0.512287 -0.921583\n",
       "        50%   -0.513047  0.521768  0.169666 -0.657628\n",
       "        75%   -0.478257  0.576227  0.242401 -0.384075\n",
       "        max   -0.443466  0.630686  0.315136 -0.110521\n",
       "Q3      count  3.000000  3.000000  3.000000  3.000000\n",
       "        mean  -0.167223  0.751257 -0.005471  0.631928\n",
       "        std    1.248934  0.947541  1.406794  0.199594\n",
       "        min   -1.299767  0.137424 -1.440250  0.421359\n",
       "        25%   -0.836962  0.205613 -0.693987  0.538717\n",
       "        50%   -0.374157  0.273801  0.052277  0.656075\n",
       "        75%    0.399048  1.058174  0.711918  0.737213\n",
       "        max    1.172253  1.842547  1.371560  0.818351"
      ]
     },
     "execution_count": 20,
     "metadata": {},
     "output_type": "execute_result"
    }
   ],
   "source": [
    "groups.describe()"
   ]
  },
  {
   "cell_type": "code",
   "execution_count": 21,
   "metadata": {
    "collapsed": false
   },
   "outputs": [
    {
     "data": {
      "text/html": [
       "<div>\n",
       "<table border=\"1\" class=\"dataframe\">\n",
       "  <thead>\n",
       "    <tr style=\"text-align: right;\">\n",
       "      <th></th>\n",
       "      <th>No1</th>\n",
       "      <th>No2</th>\n",
       "      <th>No3</th>\n",
       "      <th>No4</th>\n",
       "      <th>Quarter</th>\n",
       "      <th>Odd_Even</th>\n",
       "    </tr>\n",
       "  </thead>\n",
       "  <tbody>\n",
       "    <tr>\n",
       "      <th>2015-01-31</th>\n",
       "      <td>1.011641</td>\n",
       "      <td>-0.304186</td>\n",
       "      <td>0.024755</td>\n",
       "      <td>3.394042</td>\n",
       "      <td>Q1</td>\n",
       "      <td>Odd</td>\n",
       "    </tr>\n",
       "    <tr>\n",
       "      <th>2015-02-28</th>\n",
       "      <td>1.545369</td>\n",
       "      <td>0.218821</td>\n",
       "      <td>0.190599</td>\n",
       "      <td>-2.576329</td>\n",
       "      <td>Q1</td>\n",
       "      <td>Even</td>\n",
       "    </tr>\n",
       "    <tr>\n",
       "      <th>2015-03-31</th>\n",
       "      <td>-1.987426</td>\n",
       "      <td>-0.148424</td>\n",
       "      <td>0.323919</td>\n",
       "      <td>0.341734</td>\n",
       "      <td>Q1</td>\n",
       "      <td>Odd</td>\n",
       "    </tr>\n",
       "    <tr>\n",
       "      <th>2015-04-30</th>\n",
       "      <td>-0.513047</td>\n",
       "      <td>0.521768</td>\n",
       "      <td>-1.194241</td>\n",
       "      <td>-0.110521</td>\n",
       "      <td>Q2</td>\n",
       "      <td>Even</td>\n",
       "    </tr>\n",
       "    <tr>\n",
       "      <th>2015-05-31</th>\n",
       "      <td>-0.443466</td>\n",
       "      <td>0.630686</td>\n",
       "      <td>0.315136</td>\n",
       "      <td>-0.657628</td>\n",
       "      <td>Q2</td>\n",
       "      <td>Odd</td>\n",
       "    </tr>\n",
       "    <tr>\n",
       "      <th>2015-06-30</th>\n",
       "      <td>-1.205007</td>\n",
       "      <td>-0.035859</td>\n",
       "      <td>0.169666</td>\n",
       "      <td>-1.185538</td>\n",
       "      <td>Q2</td>\n",
       "      <td>Even</td>\n",
       "    </tr>\n",
       "    <tr>\n",
       "      <th>2015-07-31</th>\n",
       "      <td>1.172253</td>\n",
       "      <td>0.273801</td>\n",
       "      <td>-1.440250</td>\n",
       "      <td>0.818351</td>\n",
       "      <td>Q3</td>\n",
       "      <td>Odd</td>\n",
       "    </tr>\n",
       "    <tr>\n",
       "      <th>2015-08-31</th>\n",
       "      <td>-1.299767</td>\n",
       "      <td>1.842547</td>\n",
       "      <td>1.371560</td>\n",
       "      <td>0.656075</td>\n",
       "      <td>Q3</td>\n",
       "      <td>Even</td>\n",
       "    </tr>\n",
       "    <tr>\n",
       "      <th>2015-09-30</th>\n",
       "      <td>-0.374157</td>\n",
       "      <td>0.137424</td>\n",
       "      <td>0.052277</td>\n",
       "      <td>0.421359</td>\n",
       "      <td>Q3</td>\n",
       "      <td>Odd</td>\n",
       "    </tr>\n",
       "  </tbody>\n",
       "</table>\n",
       "</div>"
      ],
      "text/plain": [
       "                 No1       No2       No3       No4 Quarter Odd_Even\n",
       "2015-01-31  1.011641 -0.304186  0.024755  3.394042      Q1      Odd\n",
       "2015-02-28  1.545369  0.218821  0.190599 -2.576329      Q1     Even\n",
       "2015-03-31 -1.987426 -0.148424  0.323919  0.341734      Q1      Odd\n",
       "2015-04-30 -0.513047  0.521768 -1.194241 -0.110521      Q2     Even\n",
       "2015-05-31 -0.443466  0.630686  0.315136 -0.657628      Q2      Odd\n",
       "2015-06-30 -1.205007 -0.035859  0.169666 -1.185538      Q2     Even\n",
       "2015-07-31  1.172253  0.273801 -1.440250  0.818351      Q3      Odd\n",
       "2015-08-31 -1.299767  1.842547  1.371560  0.656075      Q3     Even\n",
       "2015-09-30 -0.374157  0.137424  0.052277  0.421359      Q3      Odd"
      ]
     },
     "execution_count": 21,
     "metadata": {},
     "output_type": "execute_result"
    }
   ],
   "source": [
    "# grouping with multiple columns\n",
    "df['Odd_Even'] = ['Odd', 'Even', 'Odd', 'Even', 'Odd', 'Even', 'Odd', 'Even', 'Odd']\n",
    "df"
   ]
  },
  {
   "cell_type": "code",
   "execution_count": 22,
   "metadata": {
    "collapsed": false
   },
   "outputs": [],
   "source": [
    "groups = df.groupby(['Quarter', 'Odd_Even'])"
   ]
  },
  {
   "cell_type": "code",
   "execution_count": 23,
   "metadata": {
    "collapsed": false
   },
   "outputs": [
    {
     "data": {
      "text/plain": [
       "Quarter  Odd_Even\n",
       "Q1       Even        1\n",
       "         Odd         2\n",
       "Q2       Even        2\n",
       "         Odd         1\n",
       "Q3       Even        1\n",
       "         Odd         2\n",
       "dtype: int64"
      ]
     },
     "execution_count": 23,
     "metadata": {},
     "output_type": "execute_result"
    }
   ],
   "source": [
    "groups.size()"
   ]
  },
  {
   "cell_type": "code",
   "execution_count": 24,
   "metadata": {
    "collapsed": false
   },
   "outputs": [
    {
     "data": {
      "text/html": [
       "<div>\n",
       "<table border=\"1\" class=\"dataframe\">\n",
       "  <thead>\n",
       "    <tr style=\"text-align: right;\">\n",
       "      <th></th>\n",
       "      <th></th>\n",
       "      <th>No1</th>\n",
       "      <th>No2</th>\n",
       "      <th>No3</th>\n",
       "      <th>No4</th>\n",
       "    </tr>\n",
       "    <tr>\n",
       "      <th>Quarter</th>\n",
       "      <th>Odd_Even</th>\n",
       "      <th></th>\n",
       "      <th></th>\n",
       "      <th></th>\n",
       "      <th></th>\n",
       "    </tr>\n",
       "  </thead>\n",
       "  <tbody>\n",
       "    <tr>\n",
       "      <th rowspan=\"2\" valign=\"top\">Q1</th>\n",
       "      <th>Even</th>\n",
       "      <td>1.545369</td>\n",
       "      <td>0.218821</td>\n",
       "      <td>0.190599</td>\n",
       "      <td>-2.576329</td>\n",
       "    </tr>\n",
       "    <tr>\n",
       "      <th>Odd</th>\n",
       "      <td>-0.487893</td>\n",
       "      <td>-0.226305</td>\n",
       "      <td>0.174337</td>\n",
       "      <td>1.867888</td>\n",
       "    </tr>\n",
       "    <tr>\n",
       "      <th rowspan=\"2\" valign=\"top\">Q2</th>\n",
       "      <th>Even</th>\n",
       "      <td>-0.859027</td>\n",
       "      <td>0.242955</td>\n",
       "      <td>-0.512287</td>\n",
       "      <td>-0.648029</td>\n",
       "    </tr>\n",
       "    <tr>\n",
       "      <th>Odd</th>\n",
       "      <td>-0.443466</td>\n",
       "      <td>0.630686</td>\n",
       "      <td>0.315136</td>\n",
       "      <td>-0.657628</td>\n",
       "    </tr>\n",
       "    <tr>\n",
       "      <th rowspan=\"2\" valign=\"top\">Q3</th>\n",
       "      <th>Even</th>\n",
       "      <td>-1.299767</td>\n",
       "      <td>1.842547</td>\n",
       "      <td>1.371560</td>\n",
       "      <td>0.656075</td>\n",
       "    </tr>\n",
       "    <tr>\n",
       "      <th>Odd</th>\n",
       "      <td>0.399048</td>\n",
       "      <td>0.205613</td>\n",
       "      <td>-0.693987</td>\n",
       "      <td>0.619855</td>\n",
       "    </tr>\n",
       "  </tbody>\n",
       "</table>\n",
       "</div>"
      ],
      "text/plain": [
       "                       No1       No2       No3       No4\n",
       "Quarter Odd_Even                                        \n",
       "Q1      Even      1.545369  0.218821  0.190599 -2.576329\n",
       "        Odd      -0.487893 -0.226305  0.174337  1.867888\n",
       "Q2      Even     -0.859027  0.242955 -0.512287 -0.648029\n",
       "        Odd      -0.443466  0.630686  0.315136 -0.657628\n",
       "Q3      Even     -1.299767  1.842547  1.371560  0.656075\n",
       "        Odd       0.399048  0.205613 -0.693987  0.619855"
      ]
     },
     "execution_count": 24,
     "metadata": {},
     "output_type": "execute_result"
    }
   ],
   "source": [
    "groups.mean()"
   ]
  },
  {
   "cell_type": "code",
   "execution_count": 30,
   "metadata": {
    "collapsed": false
   },
   "outputs": [
    {
     "name": "stdout",
     "output_type": "stream",
     "text": [
      "<class 'pandas.core.frame.DataFrame'>\n",
      "DatetimeIndex: 4216 entries, 2000-01-03 to 2016-07-20\n",
      "Data columns (total 6 columns):\n",
      "Open         4216 non-null float64\n",
      "High         4216 non-null float64\n",
      "Low          4216 non-null float64\n",
      "Close        4216 non-null float64\n",
      "Volume       4216 non-null int64\n",
      "Adj Close    4216 non-null float64\n",
      "dtypes: float64(5), int64(1)\n",
      "memory usage: 230.6 KB\n"
     ]
    }
   ],
   "source": [
    "# Financial data\n",
    "import pandas.io.data as web\n",
    "\n",
    "DAX = web.DataReader(name='^GDAXI', data_source='yahoo', start='2000-1-1')\n",
    "DAX.info()"
   ]
  },
  {
   "cell_type": "code",
   "execution_count": 31,
   "metadata": {
    "collapsed": false
   },
   "outputs": [
    {
     "data": {
      "text/html": [
       "<div>\n",
       "<table border=\"1\" class=\"dataframe\">\n",
       "  <thead>\n",
       "    <tr style=\"text-align: right;\">\n",
       "      <th></th>\n",
       "      <th>Open</th>\n",
       "      <th>High</th>\n",
       "      <th>Low</th>\n",
       "      <th>Close</th>\n",
       "      <th>Volume</th>\n",
       "      <th>Adj Close</th>\n",
       "    </tr>\n",
       "    <tr>\n",
       "      <th>Date</th>\n",
       "      <th></th>\n",
       "      <th></th>\n",
       "      <th></th>\n",
       "      <th></th>\n",
       "      <th></th>\n",
       "      <th></th>\n",
       "    </tr>\n",
       "  </thead>\n",
       "  <tbody>\n",
       "    <tr>\n",
       "      <th>2016-07-14</th>\n",
       "      <td>10058.490234</td>\n",
       "      <td>10109.860352</td>\n",
       "      <td>9984.549805</td>\n",
       "      <td>10068.299805</td>\n",
       "      <td>97397700</td>\n",
       "      <td>10068.299805</td>\n",
       "    </tr>\n",
       "    <tr>\n",
       "      <th>2016-07-15</th>\n",
       "      <td>10031.179688</td>\n",
       "      <td>10098.750000</td>\n",
       "      <td>9987.049805</td>\n",
       "      <td>10066.900391</td>\n",
       "      <td>87292700</td>\n",
       "      <td>10066.900391</td>\n",
       "    </tr>\n",
       "    <tr>\n",
       "      <th>2016-07-18</th>\n",
       "      <td>10079.030273</td>\n",
       "      <td>10160.299805</td>\n",
       "      <td>10011.839844</td>\n",
       "      <td>10063.129883</td>\n",
       "      <td>68620600</td>\n",
       "      <td>10063.129883</td>\n",
       "    </tr>\n",
       "    <tr>\n",
       "      <th>2016-07-19</th>\n",
       "      <td>10038.950195</td>\n",
       "      <td>10050.769531</td>\n",
       "      <td>9923.639648</td>\n",
       "      <td>9981.240234</td>\n",
       "      <td>67213700</td>\n",
       "      <td>9981.240234</td>\n",
       "    </tr>\n",
       "    <tr>\n",
       "      <th>2016-07-20</th>\n",
       "      <td>10054.540039</td>\n",
       "      <td>10146.709961</td>\n",
       "      <td>9991.650391</td>\n",
       "      <td>10142.009766</td>\n",
       "      <td>77317900</td>\n",
       "      <td>10142.009766</td>\n",
       "    </tr>\n",
       "  </tbody>\n",
       "</table>\n",
       "</div>"
      ],
      "text/plain": [
       "                    Open          High           Low         Close    Volume  \\\n",
       "Date                                                                           \n",
       "2016-07-14  10058.490234  10109.860352   9984.549805  10068.299805  97397700   \n",
       "2016-07-15  10031.179688  10098.750000   9987.049805  10066.900391  87292700   \n",
       "2016-07-18  10079.030273  10160.299805  10011.839844  10063.129883  68620600   \n",
       "2016-07-19  10038.950195  10050.769531   9923.639648   9981.240234  67213700   \n",
       "2016-07-20  10054.540039  10146.709961   9991.650391  10142.009766  77317900   \n",
       "\n",
       "               Adj Close  \n",
       "Date                      \n",
       "2016-07-14  10068.299805  \n",
       "2016-07-15  10066.900391  \n",
       "2016-07-18  10063.129883  \n",
       "2016-07-19   9981.240234  \n",
       "2016-07-20  10142.009766  "
      ]
     },
     "execution_count": 31,
     "metadata": {},
     "output_type": "execute_result"
    }
   ],
   "source": [
    "# five last rows\n",
    "DAX.tail()"
   ]
  },
  {
   "cell_type": "code",
   "execution_count": 32,
   "metadata": {
    "collapsed": false
   },
   "outputs": [
    {
     "data": {
      "text/plain": [
       "<matplotlib.axes._subplots.AxesSubplot at 0x7fdb086b0e10>"
      ]
     },
     "execution_count": 32,
     "metadata": {},
     "output_type": "execute_result"
    },
    {
     "data": {
      "image/png": "[encoded data removed]",
      "text/plain": [
       "<matplotlib.figure.Figure at 0x7fdb085fba20>"
      ]
     },
     "metadata": {},
     "output_type": "display_data"
    }
   ],
   "source": [
    "DAX['Close'].plot(figsize=(8, 5))"
   ]
  },
  {
   "cell_type": "code",
   "execution_count": 33,
   "metadata": {
    "collapsed": true
   },
   "outputs": [],
   "source": [
    "DAX['Return'] = np.log(DAX['Close'] / DAX['Close'].shift(1))"
   ]
  },
  {
   "cell_type": "code",
   "execution_count": 34,
   "metadata": {
    "collapsed": false
   },
   "outputs": [
    {
     "data": {
      "text/html": [
       "<div>\n",
       "<table border=\"1\" class=\"dataframe\">\n",
       "  <thead>\n",
       "    <tr style=\"text-align: right;\">\n",
       "      <th></th>\n",
       "      <th>Return</th>\n",
       "      <th>Close</th>\n",
       "    </tr>\n",
       "    <tr>\n",
       "      <th>Date</th>\n",
       "      <th></th>\n",
       "      <th></th>\n",
       "    </tr>\n",
       "  </thead>\n",
       "  <tbody>\n",
       "    <tr>\n",
       "      <th>2016-07-14</th>\n",
       "      <td>0.013760</td>\n",
       "      <td>10068.299805</td>\n",
       "    </tr>\n",
       "    <tr>\n",
       "      <th>2016-07-15</th>\n",
       "      <td>-0.000139</td>\n",
       "      <td>10066.900391</td>\n",
       "    </tr>\n",
       "    <tr>\n",
       "      <th>2016-07-18</th>\n",
       "      <td>-0.000375</td>\n",
       "      <td>10063.129883</td>\n",
       "    </tr>\n",
       "    <tr>\n",
       "      <th>2016-07-19</th>\n",
       "      <td>-0.008171</td>\n",
       "      <td>9981.240234</td>\n",
       "    </tr>\n",
       "    <tr>\n",
       "      <th>2016-07-20</th>\n",
       "      <td>0.015979</td>\n",
       "      <td>10142.009766</td>\n",
       "    </tr>\n",
       "  </tbody>\n",
       "</table>\n",
       "</div>"
      ],
      "text/plain": [
       "              Return         Close\n",
       "Date                              \n",
       "2016-07-14  0.013760  10068.299805\n",
       "2016-07-15 -0.000139  10066.900391\n",
       "2016-07-18 -0.000375  10063.129883\n",
       "2016-07-19 -0.008171   9981.240234\n",
       "2016-07-20  0.015979  10142.009766"
      ]
     },
     "execution_count": 34,
     "metadata": {},
     "output_type": "execute_result"
    }
   ],
   "source": [
    "DAX[['Return', 'Close']].tail()"
   ]
  },
  {
   "cell_type": "code",
   "execution_count": 35,
   "metadata": {
    "collapsed": false
   },
   "outputs": [
    {
     "data": {
      "text/plain": [
       "array([<matplotlib.axes._subplots.AxesSubplot object at 0x7fdb07d3ab70>,\n",
       "       <matplotlib.axes._subplots.AxesSubplot object at 0x7fdb07ce2a90>], dtype=object)"
      ]
     },
     "execution_count": 35,
     "metadata": {},
     "output_type": "execute_result"
    },
    {
     "data": {
      "image/png": "[encoded data removed]",
      "text/plain": [
       "<matplotlib.figure.Figure at 0x7fdb07d4e080>"
      ]
     },
     "metadata": {},
     "output_type": "display_data"
    }
   ],
   "source": [
    "DAX[['Close', 'Return']].plot(subplots=True, style='b', figsize=(8, 5))"
   ]
  },
  {
   "cell_type": "code",
   "execution_count": 40,
   "metadata": {
    "collapsed": false
   },
   "outputs": [],
   "source": [
    "DAX['42d'] = DAX['Close'].rolling(center=False, window=42).mean()\n",
    "DAX['252d'] = DAX['Close'].rolling(center=False, window=252).mean()"
   ]
  },
  {
   "cell_type": "code",
   "execution_count": 41,
   "metadata": {
    "collapsed": false
   },
   "outputs": [
    {
     "data": {
      "text/html": [
       "<div>\n",
       "<table border=\"1\" class=\"dataframe\">\n",
       "  <thead>\n",
       "    <tr style=\"text-align: right;\">\n",
       "      <th></th>\n",
       "      <th>Close</th>\n",
       "      <th>42d</th>\n",
       "      <th>252d</th>\n",
       "    </tr>\n",
       "    <tr>\n",
       "      <th>Date</th>\n",
       "      <th></th>\n",
       "      <th></th>\n",
       "      <th></th>\n",
       "    </tr>\n",
       "  </thead>\n",
       "  <tbody>\n",
       "    <tr>\n",
       "      <th>2016-07-14</th>\n",
       "      <td>10068.299805</td>\n",
       "      <td>9882.195731</td>\n",
       "      <td>10168.673937</td>\n",
       "    </tr>\n",
       "    <tr>\n",
       "      <th>2016-07-15</th>\n",
       "      <td>10066.900391</td>\n",
       "      <td>9885.140253</td>\n",
       "      <td>10162.051638</td>\n",
       "    </tr>\n",
       "    <tr>\n",
       "      <th>2016-07-18</th>\n",
       "      <td>10063.129883</td>\n",
       "      <td>9891.503116</td>\n",
       "      <td>10155.933900</td>\n",
       "    </tr>\n",
       "    <tr>\n",
       "      <th>2016-07-19</th>\n",
       "      <td>9981.240234</td>\n",
       "      <td>9893.055990</td>\n",
       "      <td>10149.825052</td>\n",
       "    </tr>\n",
       "    <tr>\n",
       "      <th>2016-07-20</th>\n",
       "      <td>10142.009766</td>\n",
       "      <td>9900.192174</td>\n",
       "      <td>10144.388145</td>\n",
       "    </tr>\n",
       "  </tbody>\n",
       "</table>\n",
       "</div>"
      ],
      "text/plain": [
       "                   Close          42d          252d\n",
       "Date                                               \n",
       "2016-07-14  10068.299805  9882.195731  10168.673937\n",
       "2016-07-15  10066.900391  9885.140253  10162.051638\n",
       "2016-07-18  10063.129883  9891.503116  10155.933900\n",
       "2016-07-19   9981.240234  9893.055990  10149.825052\n",
       "2016-07-20  10142.009766  9900.192174  10144.388145"
      ]
     },
     "execution_count": 41,
     "metadata": {},
     "output_type": "execute_result"
    }
   ],
   "source": [
    "DAX[['Close', '42d', '252d']].tail()"
   ]
  },
  {
   "cell_type": "code",
   "execution_count": 44,
   "metadata": {
    "collapsed": false
   },
   "outputs": [
    {
     "data": {
      "text/plain": [
       "<matplotlib.axes._subplots.AxesSubplot at 0x7fdb07cae630>"
      ]
     },
     "execution_count": 44,
     "metadata": {},
     "output_type": "execute_result"
    },
    {
     "data": {
      "image/png": "[encoded data removed]",
      "text/plain": [
       "<matplotlib.figure.Figure at 0x7fdb07c76f60>"
      ]
     },
     "metadata": {},
     "output_type": "display_data"
    }
   ],
   "source": [
    "# plot the moving averages\n",
    "DAX[['Close', '42d', '252d']].plot(figsize=(8, 5))"
   ]
  },
  {
   "cell_type": "code",
   "execution_count": 49,
   "metadata": {
    "collapsed": false
   },
   "outputs": [],
   "source": [
    "# moving historical volatility\n",
    "import math\n",
    "DAX['Mov_Vol'] = DAX['Return'].rolling(center=False, window=252).std() * math.sqrt(252)"
   ]
  },
  {
   "cell_type": "code",
   "execution_count": 51,
   "metadata": {
    "collapsed": false
   },
   "outputs": [
    {
     "data": {
      "text/plain": [
       "array([<matplotlib.axes._subplots.AxesSubplot object at 0x7fdb07b2e080>,\n",
       "       <matplotlib.axes._subplots.AxesSubplot object at 0x7fdb077a5a58>,\n",
       "       <matplotlib.axes._subplots.AxesSubplot object at 0x7fdb07707b70>], dtype=object)"
      ]
     },
     "execution_count": 51,
     "metadata": {},
     "output_type": "execute_result"
    },
    {
     "data": {
      "image/png": "[encoded data removed]",
      "text/plain": [
       "<matplotlib.figure.Figure at 0x7fdb07775898>"
      ]
     },
     "metadata": {},
     "output_type": "display_data"
    }
   ],
   "source": [
    "DAX[['Close', 'Mov_Vol', 'Return']].plot(subplots=True, style='b', figsize=(8, 7))"
   ]
  },
  {
   "cell_type": "code",
   "execution_count": null,
   "metadata": {
    "collapsed": true
   },
   "outputs": [],
   "source": [
    "# Regression analysis"
   ]
  }
 ],
 "metadata": {
  "anaconda-cloud": {},
  "kernelspec": {
   "display_name": "Python [Root]",
   "language": "python",
   "name": "Python [Root]"
  },
  "language_info": {
   "codemirror_mode": {
    "name": "ipython",
    "version": 3
   },
   "file_extension": ".py",
   "mimetype": "text/x-python",
   "name": "python",
   "nbconvert_exporter": "python",
   "pygments_lexer": "ipython3",
   "version": "3.5.2"
  }
 },
 "nbformat": 4,
 "nbformat_minor": 0
}
