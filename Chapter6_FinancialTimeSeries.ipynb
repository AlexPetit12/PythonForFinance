{
 "cells": [
  {
   "cell_type": "markdown",
   "metadata": {},
   "source": [
    "# Chapter 6 : Financial Time Series"
   ]
  },
  {
   "cell_type": "code",
   "execution_count": 1,
   "metadata": {
    "collapsed": true
   },
   "outputs": [],
   "source": [
    "import numpy as np\n",
    "import pandas as pd"
   ]
  },
  {
   "cell_type": "code",
   "execution_count": 2,
   "metadata": {
    "collapsed": false
   },
   "outputs": [
    {
     "data": {
      "text/html": [
       "<div>\n",
       "<table border=\"1\" class=\"dataframe\">\n",
       "  <thead>\n",
       "    <tr style=\"text-align: right;\">\n",
       "      <th></th>\n",
       "      <th>numbers</th>\n",
       "    </tr>\n",
       "  </thead>\n",
       "  <tbody>\n",
       "    <tr>\n",
       "      <th>a</th>\n",
       "      <td>10</td>\n",
       "    </tr>\n",
       "    <tr>\n",
       "      <th>b</th>\n",
       "      <td>20</td>\n",
       "    </tr>\n",
       "    <tr>\n",
       "      <th>c</th>\n",
       "      <td>30</td>\n",
       "    </tr>\n",
       "    <tr>\n",
       "      <th>d</th>\n",
       "      <td>40</td>\n",
       "    </tr>\n",
       "  </tbody>\n",
       "</table>\n",
       "</div>"
      ],
      "text/plain": [
       "   numbers\n",
       "a       10\n",
       "b       20\n",
       "c       30\n",
       "d       40"
      ]
     },
     "execution_count": 2,
     "metadata": {},
     "output_type": "execute_result"
    }
   ],
   "source": [
    "# First steps with DataFrame class\n",
    "df = pd.DataFrame([10, 20, 30, 40], columns=['numbers'],\n",
    "                  index=['a', 'b', 'c', 'd'])\n",
    "df"
   ]
  },
  {
   "cell_type": "code",
   "execution_count": 3,
   "metadata": {
    "collapsed": false
   },
   "outputs": [
    {
     "data": {
      "text/html": [
       "<div>\n",
       "<table border=\"1\" class=\"dataframe\">\n",
       "  <thead>\n",
       "    <tr style=\"text-align: right;\">\n",
       "      <th></th>\n",
       "      <th>numbers</th>\n",
       "      <th>floats</th>\n",
       "    </tr>\n",
       "  </thead>\n",
       "  <tbody>\n",
       "    <tr>\n",
       "      <th>a</th>\n",
       "      <td>10</td>\n",
       "      <td>1.5</td>\n",
       "    </tr>\n",
       "    <tr>\n",
       "      <th>b</th>\n",
       "      <td>20</td>\n",
       "      <td>2.5</td>\n",
       "    </tr>\n",
       "    <tr>\n",
       "      <th>c</th>\n",
       "      <td>30</td>\n",
       "      <td>3.5</td>\n",
       "    </tr>\n",
       "    <tr>\n",
       "      <th>d</th>\n",
       "      <td>40</td>\n",
       "      <td>4.5</td>\n",
       "    </tr>\n",
       "  </tbody>\n",
       "</table>\n",
       "</div>"
      ],
      "text/plain": [
       "   numbers  floats\n",
       "a       10     1.5\n",
       "b       20     2.5\n",
       "c       30     3.5\n",
       "d       40     4.5"
      ]
     },
     "execution_count": 3,
     "metadata": {},
     "output_type": "execute_result"
    }
   ],
   "source": [
    "# diffrent operations\n",
    "df.index\n",
    "df.columns\n",
    "df.ix['c']\n",
    "df.ix[['a', 'd']]\n",
    "df.ix[df.index[1:3]]\n",
    "df.sum()\n",
    "df.apply(lambda x: x ** 2)\n",
    "df ** 2\n",
    "df['floats'] = (1.5, 2.5, 3.5, 4.5) # add a column\n",
    "\n",
    "df"
   ]
  },
  {
   "cell_type": "code",
   "execution_count": 4,
   "metadata": {
    "collapsed": false
   },
   "outputs": [
    {
     "data": {
      "text/html": [
       "<div>\n",
       "<table border=\"1\" class=\"dataframe\">\n",
       "  <thead>\n",
       "    <tr style=\"text-align: right;\">\n",
       "      <th></th>\n",
       "      <th>numbers</th>\n",
       "      <th>floats</th>\n",
       "      <th>names</th>\n",
       "    </tr>\n",
       "  </thead>\n",
       "  <tbody>\n",
       "    <tr>\n",
       "      <th>a</th>\n",
       "      <td>10</td>\n",
       "      <td>1.5</td>\n",
       "      <td>Guido</td>\n",
       "    </tr>\n",
       "    <tr>\n",
       "      <th>b</th>\n",
       "      <td>20</td>\n",
       "      <td>2.5</td>\n",
       "      <td>Felix</td>\n",
       "    </tr>\n",
       "    <tr>\n",
       "      <th>c</th>\n",
       "      <td>30</td>\n",
       "      <td>3.5</td>\n",
       "      <td>Francesc</td>\n",
       "    </tr>\n",
       "    <tr>\n",
       "      <th>d</th>\n",
       "      <td>40</td>\n",
       "      <td>4.5</td>\n",
       "      <td>Yves</td>\n",
       "    </tr>\n",
       "  </tbody>\n",
       "</table>\n",
       "</div>"
      ],
      "text/plain": [
       "   numbers  floats     names\n",
       "a       10     1.5     Guido\n",
       "b       20     2.5     Felix\n",
       "c       30     3.5  Francesc\n",
       "d       40     4.5      Yves"
      ]
     },
     "execution_count": 4,
     "metadata": {},
     "output_type": "execute_result"
    }
   ],
   "source": [
    "df['names'] = pd.DataFrame(['Yves', 'Guido', 'Felix', 'Francesc'], # new column with indexes\n",
    "                           index=['d', 'a', 'b', 'c'])\n",
    "df"
   ]
  },
  {
   "cell_type": "code",
   "execution_count": 5,
   "metadata": {
    "collapsed": false
   },
   "outputs": [
    {
     "data": {
      "text/html": [
       "<div>\n",
       "<table border=\"1\" class=\"dataframe\">\n",
       "  <thead>\n",
       "    <tr style=\"text-align: right;\">\n",
       "      <th></th>\n",
       "      <th>floats</th>\n",
       "      <th>names</th>\n",
       "      <th>numbers</th>\n",
       "    </tr>\n",
       "  </thead>\n",
       "  <tbody>\n",
       "    <tr>\n",
       "      <th>a</th>\n",
       "      <td>1.50</td>\n",
       "      <td>Guido</td>\n",
       "      <td>10</td>\n",
       "    </tr>\n",
       "    <tr>\n",
       "      <th>b</th>\n",
       "      <td>2.50</td>\n",
       "      <td>Felix</td>\n",
       "      <td>20</td>\n",
       "    </tr>\n",
       "    <tr>\n",
       "      <th>c</th>\n",
       "      <td>3.50</td>\n",
       "      <td>Francesc</td>\n",
       "      <td>30</td>\n",
       "    </tr>\n",
       "    <tr>\n",
       "      <th>d</th>\n",
       "      <td>4.50</td>\n",
       "      <td>Yves</td>\n",
       "      <td>40</td>\n",
       "    </tr>\n",
       "    <tr>\n",
       "      <th>z</th>\n",
       "      <td>5.75</td>\n",
       "      <td>Henry</td>\n",
       "      <td>100</td>\n",
       "    </tr>\n",
       "  </tbody>\n",
       "</table>\n",
       "</div>"
      ],
      "text/plain": [
       "   floats     names  numbers\n",
       "a    1.50     Guido       10\n",
       "b    2.50     Felix       20\n",
       "c    3.50  Francesc       30\n",
       "d    4.50      Yves       40\n",
       "z    5.75     Henry      100"
      ]
     },
     "execution_count": 5,
     "metadata": {},
     "output_type": "execute_result"
    }
   ],
   "source": [
    "df = df.append(pd.DataFrame({'numbers' : 100, 'floats' : 5.75, 'names' : 'Henry'}, index=['z']))\n",
    "df"
   ]
  },
  {
   "cell_type": "code",
   "execution_count": 6,
   "metadata": {
    "collapsed": false
   },
   "outputs": [
    {
     "data": {
      "text/plain": [
       "array([[ 0.859425,  0.149073, -1.079706,  0.540394],\n",
       "       [-2.639117,  0.957659,  0.733415,  1.011315],\n",
       "       [ 0.272887, -0.230636,  1.142849,  1.363756],\n",
       "       [ 0.575098,  0.662893,  0.540083, -0.246065],\n",
       "       [-0.480384,  1.208446,  0.799501, -0.389467],\n",
       "       [ 1.683304,  0.092444, -0.092997, -1.132926],\n",
       "       [ 0.034734,  0.41576 ,  0.247956,  0.039755],\n",
       "       [-0.269092,  0.853332,  0.306814,  0.855804],\n",
       "       [-0.296549, -0.603926,  0.932427,  0.134501]])"
      ]
     },
     "execution_count": 6,
     "metadata": {},
     "output_type": "execute_result"
    }
   ],
   "source": [
    "# Second steps with DataFrame class\n",
    "a = np.random.standard_normal((9, 4))\n",
    "a.round(6)"
   ]
  },
  {
   "cell_type": "code",
   "execution_count": 7,
   "metadata": {
    "collapsed": false
   },
   "outputs": [
    {
     "data": {
      "text/html": [
       "<div>\n",
       "<table border=\"1\" class=\"dataframe\">\n",
       "  <thead>\n",
       "    <tr style=\"text-align: right;\">\n",
       "      <th></th>\n",
       "      <th>0</th>\n",
       "      <th>1</th>\n",
       "      <th>2</th>\n",
       "      <th>3</th>\n",
       "    </tr>\n",
       "  </thead>\n",
       "  <tbody>\n",
       "    <tr>\n",
       "      <th>0</th>\n",
       "      <td>0.859425</td>\n",
       "      <td>0.149073</td>\n",
       "      <td>-1.079706</td>\n",
       "      <td>0.540394</td>\n",
       "    </tr>\n",
       "    <tr>\n",
       "      <th>1</th>\n",
       "      <td>-2.639117</td>\n",
       "      <td>0.957659</td>\n",
       "      <td>0.733415</td>\n",
       "      <td>1.011315</td>\n",
       "    </tr>\n",
       "    <tr>\n",
       "      <th>2</th>\n",
       "      <td>0.272887</td>\n",
       "      <td>-0.230636</td>\n",
       "      <td>1.142849</td>\n",
       "      <td>1.363756</td>\n",
       "    </tr>\n",
       "    <tr>\n",
       "      <th>3</th>\n",
       "      <td>0.575098</td>\n",
       "      <td>0.662893</td>\n",
       "      <td>0.540083</td>\n",
       "      <td>-0.246065</td>\n",
       "    </tr>\n",
       "    <tr>\n",
       "      <th>4</th>\n",
       "      <td>-0.480384</td>\n",
       "      <td>1.208446</td>\n",
       "      <td>0.799501</td>\n",
       "      <td>-0.389467</td>\n",
       "    </tr>\n",
       "    <tr>\n",
       "      <th>5</th>\n",
       "      <td>1.683304</td>\n",
       "      <td>0.092444</td>\n",
       "      <td>-0.092997</td>\n",
       "      <td>-1.132926</td>\n",
       "    </tr>\n",
       "    <tr>\n",
       "      <th>6</th>\n",
       "      <td>0.034734</td>\n",
       "      <td>0.415760</td>\n",
       "      <td>0.247956</td>\n",
       "      <td>0.039755</td>\n",
       "    </tr>\n",
       "    <tr>\n",
       "      <th>7</th>\n",
       "      <td>-0.269092</td>\n",
       "      <td>0.853332</td>\n",
       "      <td>0.306814</td>\n",
       "      <td>0.855804</td>\n",
       "    </tr>\n",
       "    <tr>\n",
       "      <th>8</th>\n",
       "      <td>-0.296549</td>\n",
       "      <td>-0.603926</td>\n",
       "      <td>0.932427</td>\n",
       "      <td>0.134501</td>\n",
       "    </tr>\n",
       "  </tbody>\n",
       "</table>\n",
       "</div>"
      ],
      "text/plain": [
       "          0         1         2         3\n",
       "0  0.859425  0.149073 -1.079706  0.540394\n",
       "1 -2.639117  0.957659  0.733415  1.011315\n",
       "2  0.272887 -0.230636  1.142849  1.363756\n",
       "3  0.575098  0.662893  0.540083 -0.246065\n",
       "4 -0.480384  1.208446  0.799501 -0.389467\n",
       "5  1.683304  0.092444 -0.092997 -1.132926\n",
       "6  0.034734  0.415760  0.247956  0.039755\n",
       "7 -0.269092  0.853332  0.306814  0.855804\n",
       "8 -0.296549 -0.603926  0.932427  0.134501"
      ]
     },
     "execution_count": 7,
     "metadata": {},
     "output_type": "execute_result"
    }
   ],
   "source": [
    "df = pd.DataFrame(a)\n",
    "df"
   ]
  },
  {
   "cell_type": "code",
   "execution_count": 8,
   "metadata": {
    "collapsed": false
   },
   "outputs": [
    {
     "data": {
      "text/html": [
       "<div>\n",
       "<table border=\"1\" class=\"dataframe\">\n",
       "  <thead>\n",
       "    <tr style=\"text-align: right;\">\n",
       "      <th></th>\n",
       "      <th>No1</th>\n",
       "      <th>No2</th>\n",
       "      <th>No3</th>\n",
       "      <th>No4</th>\n",
       "    </tr>\n",
       "  </thead>\n",
       "  <tbody>\n",
       "    <tr>\n",
       "      <th>0</th>\n",
       "      <td>0.859425</td>\n",
       "      <td>0.149073</td>\n",
       "      <td>-1.079706</td>\n",
       "      <td>0.540394</td>\n",
       "    </tr>\n",
       "    <tr>\n",
       "      <th>1</th>\n",
       "      <td>-2.639117</td>\n",
       "      <td>0.957659</td>\n",
       "      <td>0.733415</td>\n",
       "      <td>1.011315</td>\n",
       "    </tr>\n",
       "    <tr>\n",
       "      <th>2</th>\n",
       "      <td>0.272887</td>\n",
       "      <td>-0.230636</td>\n",
       "      <td>1.142849</td>\n",
       "      <td>1.363756</td>\n",
       "    </tr>\n",
       "    <tr>\n",
       "      <th>3</th>\n",
       "      <td>0.575098</td>\n",
       "      <td>0.662893</td>\n",
       "      <td>0.540083</td>\n",
       "      <td>-0.246065</td>\n",
       "    </tr>\n",
       "    <tr>\n",
       "      <th>4</th>\n",
       "      <td>-0.480384</td>\n",
       "      <td>1.208446</td>\n",
       "      <td>0.799501</td>\n",
       "      <td>-0.389467</td>\n",
       "    </tr>\n",
       "    <tr>\n",
       "      <th>5</th>\n",
       "      <td>1.683304</td>\n",
       "      <td>0.092444</td>\n",
       "      <td>-0.092997</td>\n",
       "      <td>-1.132926</td>\n",
       "    </tr>\n",
       "    <tr>\n",
       "      <th>6</th>\n",
       "      <td>0.034734</td>\n",
       "      <td>0.415760</td>\n",
       "      <td>0.247956</td>\n",
       "      <td>0.039755</td>\n",
       "    </tr>\n",
       "    <tr>\n",
       "      <th>7</th>\n",
       "      <td>-0.269092</td>\n",
       "      <td>0.853332</td>\n",
       "      <td>0.306814</td>\n",
       "      <td>0.855804</td>\n",
       "    </tr>\n",
       "    <tr>\n",
       "      <th>8</th>\n",
       "      <td>-0.296549</td>\n",
       "      <td>-0.603926</td>\n",
       "      <td>0.932427</td>\n",
       "      <td>0.134501</td>\n",
       "    </tr>\n",
       "  </tbody>\n",
       "</table>\n",
       "</div>"
      ],
      "text/plain": [
       "        No1       No2       No3       No4\n",
       "0  0.859425  0.149073 -1.079706  0.540394\n",
       "1 -2.639117  0.957659  0.733415  1.011315\n",
       "2  0.272887 -0.230636  1.142849  1.363756\n",
       "3  0.575098  0.662893  0.540083 -0.246065\n",
       "4 -0.480384  1.208446  0.799501 -0.389467\n",
       "5  1.683304  0.092444 -0.092997 -1.132926\n",
       "6  0.034734  0.415760  0.247956  0.039755\n",
       "7 -0.269092  0.853332  0.306814  0.855804\n",
       "8 -0.296549 -0.603926  0.932427  0.134501"
      ]
     },
     "execution_count": 8,
     "metadata": {},
     "output_type": "execute_result"
    }
   ],
   "source": [
    "df.columns = [['No1', 'No2', 'No3', 'No4']]\n",
    "df"
   ]
  },
  {
   "cell_type": "code",
   "execution_count": 9,
   "metadata": {
    "collapsed": false
   },
   "outputs": [
    {
     "data": {
      "text/plain": [
       "0.66289326182230268"
      ]
     },
     "execution_count": 9,
     "metadata": {},
     "output_type": "execute_result"
    }
   ],
   "source": [
    "df['No2'][3] # value in column No2 at position index 3"
   ]
  },
  {
   "cell_type": "code",
   "execution_count": 10,
   "metadata": {
    "collapsed": false
   },
   "outputs": [
    {
     "data": {
      "text/plain": [
       "DatetimeIndex(['2015-01-31', '2015-02-28', '2015-03-31', '2015-04-30',\n",
       "               '2015-05-31', '2015-06-30', '2015-07-31', '2015-08-31',\n",
       "               '2015-09-30'],\n",
       "              dtype='datetime64[ns]', freq='M')"
      ]
     },
     "execution_count": 10,
     "metadata": {},
     "output_type": "execute_result"
    }
   ],
   "source": [
    "dates = pd.date_range('2015-1-1', periods=9, freq='M')\n",
    "dates"
   ]
  },
  {
   "cell_type": "code",
   "execution_count": 11,
   "metadata": {
    "collapsed": false
   },
   "outputs": [
    {
     "data": {
      "text/html": [
       "<div>\n",
       "<table border=\"1\" class=\"dataframe\">\n",
       "  <thead>\n",
       "    <tr style=\"text-align: right;\">\n",
       "      <th></th>\n",
       "      <th>No1</th>\n",
       "      <th>No2</th>\n",
       "      <th>No3</th>\n",
       "      <th>No4</th>\n",
       "    </tr>\n",
       "  </thead>\n",
       "  <tbody>\n",
       "    <tr>\n",
       "      <th>2015-01-31</th>\n",
       "      <td>0.859425</td>\n",
       "      <td>0.149073</td>\n",
       "      <td>-1.079706</td>\n",
       "      <td>0.540394</td>\n",
       "    </tr>\n",
       "    <tr>\n",
       "      <th>2015-02-28</th>\n",
       "      <td>-2.639117</td>\n",
       "      <td>0.957659</td>\n",
       "      <td>0.733415</td>\n",
       "      <td>1.011315</td>\n",
       "    </tr>\n",
       "    <tr>\n",
       "      <th>2015-03-31</th>\n",
       "      <td>0.272887</td>\n",
       "      <td>-0.230636</td>\n",
       "      <td>1.142849</td>\n",
       "      <td>1.363756</td>\n",
       "    </tr>\n",
       "    <tr>\n",
       "      <th>2015-04-30</th>\n",
       "      <td>0.575098</td>\n",
       "      <td>0.662893</td>\n",
       "      <td>0.540083</td>\n",
       "      <td>-0.246065</td>\n",
       "    </tr>\n",
       "    <tr>\n",
       "      <th>2015-05-31</th>\n",
       "      <td>-0.480384</td>\n",
       "      <td>1.208446</td>\n",
       "      <td>0.799501</td>\n",
       "      <td>-0.389467</td>\n",
       "    </tr>\n",
       "    <tr>\n",
       "      <th>2015-06-30</th>\n",
       "      <td>1.683304</td>\n",
       "      <td>0.092444</td>\n",
       "      <td>-0.092997</td>\n",
       "      <td>-1.132926</td>\n",
       "    </tr>\n",
       "    <tr>\n",
       "      <th>2015-07-31</th>\n",
       "      <td>0.034734</td>\n",
       "      <td>0.415760</td>\n",
       "      <td>0.247956</td>\n",
       "      <td>0.039755</td>\n",
       "    </tr>\n",
       "    <tr>\n",
       "      <th>2015-08-31</th>\n",
       "      <td>-0.269092</td>\n",
       "      <td>0.853332</td>\n",
       "      <td>0.306814</td>\n",
       "      <td>0.855804</td>\n",
       "    </tr>\n",
       "    <tr>\n",
       "      <th>2015-09-30</th>\n",
       "      <td>-0.296549</td>\n",
       "      <td>-0.603926</td>\n",
       "      <td>0.932427</td>\n",
       "      <td>0.134501</td>\n",
       "    </tr>\n",
       "  </tbody>\n",
       "</table>\n",
       "</div>"
      ],
      "text/plain": [
       "                 No1       No2       No3       No4\n",
       "2015-01-31  0.859425  0.149073 -1.079706  0.540394\n",
       "2015-02-28 -2.639117  0.957659  0.733415  1.011315\n",
       "2015-03-31  0.272887 -0.230636  1.142849  1.363756\n",
       "2015-04-30  0.575098  0.662893  0.540083 -0.246065\n",
       "2015-05-31 -0.480384  1.208446  0.799501 -0.389467\n",
       "2015-06-30  1.683304  0.092444 -0.092997 -1.132926\n",
       "2015-07-31  0.034734  0.415760  0.247956  0.039755\n",
       "2015-08-31 -0.269092  0.853332  0.306814  0.855804\n",
       "2015-09-30 -0.296549 -0.603926  0.932427  0.134501"
      ]
     },
     "execution_count": 11,
     "metadata": {},
     "output_type": "execute_result"
    }
   ],
   "source": [
    "df.index = dates\n",
    "df"
   ]
  },
  {
   "cell_type": "code",
   "execution_count": 12,
   "metadata": {
    "collapsed": false
   },
   "outputs": [
    {
     "data": {
      "text/plain": [
       "array([[ 0.859425,  0.149073, -1.079706,  0.540394],\n",
       "       [-2.639117,  0.957659,  0.733415,  1.011315],\n",
       "       [ 0.272887, -0.230636,  1.142849,  1.363756],\n",
       "       [ 0.575098,  0.662893,  0.540083, -0.246065],\n",
       "       [-0.480384,  1.208446,  0.799501, -0.389467],\n",
       "       [ 1.683304,  0.092444, -0.092997, -1.132926],\n",
       "       [ 0.034734,  0.41576 ,  0.247956,  0.039755],\n",
       "       [-0.269092,  0.853332,  0.306814,  0.855804],\n",
       "       [-0.296549, -0.603926,  0.932427,  0.134501]])"
      ]
     },
     "execution_count": 12,
     "metadata": {},
     "output_type": "execute_result"
    }
   ],
   "source": [
    "# the other way around\n",
    "np.array(df).round(6)"
   ]
  },
  {
   "cell_type": "code",
   "execution_count": 13,
   "metadata": {
    "collapsed": false
   },
   "outputs": [
    {
     "data": {
      "text/html": [
       "<div>\n",
       "<table border=\"1\" class=\"dataframe\">\n",
       "  <thead>\n",
       "    <tr style=\"text-align: right;\">\n",
       "      <th></th>\n",
       "      <th>No1</th>\n",
       "      <th>No2</th>\n",
       "      <th>No3</th>\n",
       "      <th>No4</th>\n",
       "    </tr>\n",
       "  </thead>\n",
       "  <tbody>\n",
       "    <tr>\n",
       "      <th>count</th>\n",
       "      <td>9.000000</td>\n",
       "      <td>9.000000</td>\n",
       "      <td>9.000000</td>\n",
       "      <td>9.000000</td>\n",
       "    </tr>\n",
       "    <tr>\n",
       "      <th>mean</th>\n",
       "      <td>-0.028855</td>\n",
       "      <td>0.389449</td>\n",
       "      <td>0.392260</td>\n",
       "      <td>0.241896</td>\n",
       "    </tr>\n",
       "    <tr>\n",
       "      <th>std</th>\n",
       "      <td>1.189911</td>\n",
       "      <td>0.591773</td>\n",
       "      <td>0.669844</td>\n",
       "      <td>0.782289</td>\n",
       "    </tr>\n",
       "    <tr>\n",
       "      <th>min</th>\n",
       "      <td>-2.639117</td>\n",
       "      <td>-0.603926</td>\n",
       "      <td>-1.079706</td>\n",
       "      <td>-1.132926</td>\n",
       "    </tr>\n",
       "    <tr>\n",
       "      <th>25%</th>\n",
       "      <td>-0.296549</td>\n",
       "      <td>0.092444</td>\n",
       "      <td>0.247956</td>\n",
       "      <td>-0.246065</td>\n",
       "    </tr>\n",
       "    <tr>\n",
       "      <th>50%</th>\n",
       "      <td>0.034734</td>\n",
       "      <td>0.415760</td>\n",
       "      <td>0.540083</td>\n",
       "      <td>0.134501</td>\n",
       "    </tr>\n",
       "    <tr>\n",
       "      <th>75%</th>\n",
       "      <td>0.575098</td>\n",
       "      <td>0.853332</td>\n",
       "      <td>0.799501</td>\n",
       "      <td>0.855804</td>\n",
       "    </tr>\n",
       "    <tr>\n",
       "      <th>max</th>\n",
       "      <td>1.683304</td>\n",
       "      <td>1.208446</td>\n",
       "      <td>1.142849</td>\n",
       "      <td>1.363756</td>\n",
       "    </tr>\n",
       "  </tbody>\n",
       "</table>\n",
       "</div>"
      ],
      "text/plain": [
       "            No1       No2       No3       No4\n",
       "count  9.000000  9.000000  9.000000  9.000000\n",
       "mean  -0.028855  0.389449  0.392260  0.241896\n",
       "std    1.189911  0.591773  0.669844  0.782289\n",
       "min   -2.639117 -0.603926 -1.079706 -1.132926\n",
       "25%   -0.296549  0.092444  0.247956 -0.246065\n",
       "50%    0.034734  0.415760  0.540083  0.134501\n",
       "75%    0.575098  0.853332  0.799501  0.855804\n",
       "max    1.683304  1.208446  1.142849  1.363756"
      ]
     },
     "execution_count": 13,
     "metadata": {},
     "output_type": "execute_result"
    }
   ],
   "source": [
    "# Basic analytics\n",
    "df.sum()\n",
    "df.mean()\n",
    "df.cumsum()\n",
    "df.describe()"
   ]
  },
  {
   "cell_type": "code",
   "execution_count": 14,
   "metadata": {
    "collapsed": false
   },
   "outputs": [
    {
     "data": {
      "text/plain": [
       "<matplotlib.axes._subplots.AxesSubplot at 0x7f3ec81a41d0>"
      ]
     },
     "execution_count": 14,
     "metadata": {},
     "output_type": "execute_result"
    },
    {
     "data": {
      "image/png": "[encoded data removed]",
      "text/plain": [
       "<matplotlib.figure.Figure at 0x7f3eca5de9e8>"
      ]
     },
     "metadata": {},
     "output_type": "display_data"
    }
   ],
   "source": [
    "%matplotlib inline\n",
    "df.cumsum().plot(lw=2.0)"
   ]
  },
  {
   "cell_type": "code",
   "execution_count": 15,
   "metadata": {
    "collapsed": false
   },
   "outputs": [
    {
     "data": {
      "text/plain": [
       "pandas.core.series.Series"
      ]
     },
     "execution_count": 15,
     "metadata": {},
     "output_type": "execute_result"
    }
   ],
   "source": [
    "# Series\n",
    "type(df['No1'])"
   ]
  },
  {
   "cell_type": "code",
   "execution_count": 16,
   "metadata": {
    "collapsed": false
   },
   "outputs": [
    {
     "data": {
      "text/plain": [
       "<matplotlib.text.Text at 0x7f3ec60afa58>"
      ]
     },
     "execution_count": 16,
     "metadata": {},
     "output_type": "execute_result"
    },
    {
     "data": {
      "image/png": "[encoded data removed]",
      "text/plain": [
       "<matplotlib.figure.Figure at 0x7f3ec6146f98>"
      ]
     },
     "metadata": {},
     "output_type": "display_data"
    }
   ],
   "source": [
    "import matplotlib.pyplot as plt\n",
    "df['No1'].cumsum().plot(style='r', lw=2.0)\n",
    "plt.xlabel('date')\n",
    "plt.ylabel('value')"
   ]
  },
  {
   "cell_type": "code",
   "execution_count": 17,
   "metadata": {
    "collapsed": false
   },
   "outputs": [
    {
     "data": {
      "text/html": [
       "<div>\n",
       "<table border=\"1\" class=\"dataframe\">\n",
       "  <thead>\n",
       "    <tr style=\"text-align: right;\">\n",
       "      <th></th>\n",
       "      <th>No1</th>\n",
       "      <th>No2</th>\n",
       "      <th>No3</th>\n",
       "      <th>No4</th>\n",
       "      <th>Quarter</th>\n",
       "    </tr>\n",
       "  </thead>\n",
       "  <tbody>\n",
       "    <tr>\n",
       "      <th>2015-01-31</th>\n",
       "      <td>0.859425</td>\n",
       "      <td>0.149073</td>\n",
       "      <td>-1.079706</td>\n",
       "      <td>0.540394</td>\n",
       "      <td>Q1</td>\n",
       "    </tr>\n",
       "    <tr>\n",
       "      <th>2015-02-28</th>\n",
       "      <td>-2.639117</td>\n",
       "      <td>0.957659</td>\n",
       "      <td>0.733415</td>\n",
       "      <td>1.011315</td>\n",
       "      <td>Q1</td>\n",
       "    </tr>\n",
       "    <tr>\n",
       "      <th>2015-03-31</th>\n",
       "      <td>0.272887</td>\n",
       "      <td>-0.230636</td>\n",
       "      <td>1.142849</td>\n",
       "      <td>1.363756</td>\n",
       "      <td>Q1</td>\n",
       "    </tr>\n",
       "    <tr>\n",
       "      <th>2015-04-30</th>\n",
       "      <td>0.575098</td>\n",
       "      <td>0.662893</td>\n",
       "      <td>0.540083</td>\n",
       "      <td>-0.246065</td>\n",
       "      <td>Q2</td>\n",
       "    </tr>\n",
       "    <tr>\n",
       "      <th>2015-05-31</th>\n",
       "      <td>-0.480384</td>\n",
       "      <td>1.208446</td>\n",
       "      <td>0.799501</td>\n",
       "      <td>-0.389467</td>\n",
       "      <td>Q2</td>\n",
       "    </tr>\n",
       "    <tr>\n",
       "      <th>2015-06-30</th>\n",
       "      <td>1.683304</td>\n",
       "      <td>0.092444</td>\n",
       "      <td>-0.092997</td>\n",
       "      <td>-1.132926</td>\n",
       "      <td>Q2</td>\n",
       "    </tr>\n",
       "    <tr>\n",
       "      <th>2015-07-31</th>\n",
       "      <td>0.034734</td>\n",
       "      <td>0.415760</td>\n",
       "      <td>0.247956</td>\n",
       "      <td>0.039755</td>\n",
       "      <td>Q3</td>\n",
       "    </tr>\n",
       "    <tr>\n",
       "      <th>2015-08-31</th>\n",
       "      <td>-0.269092</td>\n",
       "      <td>0.853332</td>\n",
       "      <td>0.306814</td>\n",
       "      <td>0.855804</td>\n",
       "      <td>Q3</td>\n",
       "    </tr>\n",
       "    <tr>\n",
       "      <th>2015-09-30</th>\n",
       "      <td>-0.296549</td>\n",
       "      <td>-0.603926</td>\n",
       "      <td>0.932427</td>\n",
       "      <td>0.134501</td>\n",
       "      <td>Q3</td>\n",
       "    </tr>\n",
       "  </tbody>\n",
       "</table>\n",
       "</div>"
      ],
      "text/plain": [
       "                 No1       No2       No3       No4 Quarter\n",
       "2015-01-31  0.859425  0.149073 -1.079706  0.540394      Q1\n",
       "2015-02-28 -2.639117  0.957659  0.733415  1.011315      Q1\n",
       "2015-03-31  0.272887 -0.230636  1.142849  1.363756      Q1\n",
       "2015-04-30  0.575098  0.662893  0.540083 -0.246065      Q2\n",
       "2015-05-31 -0.480384  1.208446  0.799501 -0.389467      Q2\n",
       "2015-06-30  1.683304  0.092444 -0.092997 -1.132926      Q2\n",
       "2015-07-31  0.034734  0.415760  0.247956  0.039755      Q3\n",
       "2015-08-31 -0.269092  0.853332  0.306814  0.855804      Q3\n",
       "2015-09-30 -0.296549 -0.603926  0.932427  0.134501      Q3"
      ]
     },
     "execution_count": 17,
     "metadata": {},
     "output_type": "execute_result"
    }
   ],
   "source": [
    "# GroupBy operations\n",
    "df['Quarter'] = ['Q1', 'Q1', 'Q1', 'Q2', 'Q2', 'Q2', 'Q3', 'Q3', 'Q3']\n",
    "df"
   ]
  },
  {
   "cell_type": "code",
   "execution_count": 18,
   "metadata": {
    "collapsed": false
   },
   "outputs": [
    {
     "data": {
      "text/html": [
       "<div>\n",
       "<table border=\"1\" class=\"dataframe\">\n",
       "  <thead>\n",
       "    <tr style=\"text-align: right;\">\n",
       "      <th></th>\n",
       "      <th>No1</th>\n",
       "      <th>No2</th>\n",
       "      <th>No3</th>\n",
       "      <th>No4</th>\n",
       "    </tr>\n",
       "    <tr>\n",
       "      <th>Quarter</th>\n",
       "      <th></th>\n",
       "      <th></th>\n",
       "      <th></th>\n",
       "      <th></th>\n",
       "    </tr>\n",
       "  </thead>\n",
       "  <tbody>\n",
       "    <tr>\n",
       "      <th>Q1</th>\n",
       "      <td>-0.502269</td>\n",
       "      <td>0.292032</td>\n",
       "      <td>0.265519</td>\n",
       "      <td>0.971821</td>\n",
       "    </tr>\n",
       "    <tr>\n",
       "      <th>Q2</th>\n",
       "      <td>0.592673</td>\n",
       "      <td>0.654595</td>\n",
       "      <td>0.415529</td>\n",
       "      <td>-0.589486</td>\n",
       "    </tr>\n",
       "    <tr>\n",
       "      <th>Q3</th>\n",
       "      <td>-0.176969</td>\n",
       "      <td>0.221722</td>\n",
       "      <td>0.495732</td>\n",
       "      <td>0.343353</td>\n",
       "    </tr>\n",
       "  </tbody>\n",
       "</table>\n",
       "</div>"
      ],
      "text/plain": [
       "              No1       No2       No3       No4\n",
       "Quarter                                        \n",
       "Q1      -0.502269  0.292032  0.265519  0.971821\n",
       "Q2       0.592673  0.654595  0.415529 -0.589486\n",
       "Q3      -0.176969  0.221722  0.495732  0.343353"
      ]
     },
     "execution_count": 18,
     "metadata": {},
     "output_type": "execute_result"
    }
   ],
   "source": [
    "groups = df.groupby('Quarter')\n",
    "groups.mean()"
   ]
  },
  {
   "cell_type": "code",
   "execution_count": 19,
   "metadata": {
    "collapsed": false
   },
   "outputs": [
    {
     "data": {
      "text/html": [
       "<div>\n",
       "<table border=\"1\" class=\"dataframe\">\n",
       "  <thead>\n",
       "    <tr style=\"text-align: right;\">\n",
       "      <th></th>\n",
       "      <th>No1</th>\n",
       "      <th>No2</th>\n",
       "      <th>No3</th>\n",
       "      <th>No4</th>\n",
       "    </tr>\n",
       "    <tr>\n",
       "      <th>Quarter</th>\n",
       "      <th></th>\n",
       "      <th></th>\n",
       "      <th></th>\n",
       "      <th></th>\n",
       "    </tr>\n",
       "  </thead>\n",
       "  <tbody>\n",
       "    <tr>\n",
       "      <th>Q1</th>\n",
       "      <td>0.859425</td>\n",
       "      <td>0.957659</td>\n",
       "      <td>1.142849</td>\n",
       "      <td>1.363756</td>\n",
       "    </tr>\n",
       "    <tr>\n",
       "      <th>Q2</th>\n",
       "      <td>1.683304</td>\n",
       "      <td>1.208446</td>\n",
       "      <td>0.799501</td>\n",
       "      <td>-0.246065</td>\n",
       "    </tr>\n",
       "    <tr>\n",
       "      <th>Q3</th>\n",
       "      <td>0.034734</td>\n",
       "      <td>0.853332</td>\n",
       "      <td>0.932427</td>\n",
       "      <td>0.855804</td>\n",
       "    </tr>\n",
       "  </tbody>\n",
       "</table>\n",
       "</div>"
      ],
      "text/plain": [
       "              No1       No2       No3       No4\n",
       "Quarter                                        \n",
       "Q1       0.859425  0.957659  1.142849  1.363756\n",
       "Q2       1.683304  1.208446  0.799501 -0.246065\n",
       "Q3       0.034734  0.853332  0.932427  0.855804"
      ]
     },
     "execution_count": 19,
     "metadata": {},
     "output_type": "execute_result"
    }
   ],
   "source": [
    "groups.max()"
   ]
  },
  {
   "cell_type": "code",
   "execution_count": 20,
   "metadata": {
    "collapsed": false
   },
   "outputs": [
    {
     "data": {
      "text/html": [
       "<div>\n",
       "<table border=\"1\" class=\"dataframe\">\n",
       "  <thead>\n",
       "    <tr style=\"text-align: right;\">\n",
       "      <th></th>\n",
       "      <th></th>\n",
       "      <th>No1</th>\n",
       "      <th>No2</th>\n",
       "      <th>No3</th>\n",
       "      <th>No4</th>\n",
       "    </tr>\n",
       "    <tr>\n",
       "      <th>Quarter</th>\n",
       "      <th></th>\n",
       "      <th></th>\n",
       "      <th></th>\n",
       "      <th></th>\n",
       "      <th></th>\n",
       "    </tr>\n",
       "  </thead>\n",
       "  <tbody>\n",
       "    <tr>\n",
       "      <th rowspan=\"8\" valign=\"top\">Q1</th>\n",
       "      <th>count</th>\n",
       "      <td>3.000000</td>\n",
       "      <td>3.000000</td>\n",
       "      <td>3.000000</td>\n",
       "      <td>3.000000</td>\n",
       "    </tr>\n",
       "    <tr>\n",
       "      <th>mean</th>\n",
       "      <td>-0.502269</td>\n",
       "      <td>0.292032</td>\n",
       "      <td>0.265519</td>\n",
       "      <td>0.971821</td>\n",
       "    </tr>\n",
       "    <tr>\n",
       "      <th>std</th>\n",
       "      <td>1.873659</td>\n",
       "      <td>0.606910</td>\n",
       "      <td>1.182849</td>\n",
       "      <td>0.413099</td>\n",
       "    </tr>\n",
       "    <tr>\n",
       "      <th>min</th>\n",
       "      <td>-2.639117</td>\n",
       "      <td>-0.230636</td>\n",
       "      <td>-1.079706</td>\n",
       "      <td>0.540394</td>\n",
       "    </tr>\n",
       "    <tr>\n",
       "      <th>25%</th>\n",
       "      <td>-1.183115</td>\n",
       "      <td>-0.040782</td>\n",
       "      <td>-0.173145</td>\n",
       "      <td>0.775854</td>\n",
       "    </tr>\n",
       "    <tr>\n",
       "      <th>50%</th>\n",
       "      <td>0.272887</td>\n",
       "      <td>0.149073</td>\n",
       "      <td>0.733415</td>\n",
       "      <td>1.011315</td>\n",
       "    </tr>\n",
       "    <tr>\n",
       "      <th>75%</th>\n",
       "      <td>0.566156</td>\n",
       "      <td>0.553366</td>\n",
       "      <td>0.938132</td>\n",
       "      <td>1.187535</td>\n",
       "    </tr>\n",
       "    <tr>\n",
       "      <th>max</th>\n",
       "      <td>0.859425</td>\n",
       "      <td>0.957659</td>\n",
       "      <td>1.142849</td>\n",
       "      <td>1.363756</td>\n",
       "    </tr>\n",
       "    <tr>\n",
       "      <th rowspan=\"8\" valign=\"top\">Q2</th>\n",
       "      <th>count</th>\n",
       "      <td>3.000000</td>\n",
       "      <td>3.000000</td>\n",
       "      <td>3.000000</td>\n",
       "      <td>3.000000</td>\n",
       "    </tr>\n",
       "    <tr>\n",
       "      <th>mean</th>\n",
       "      <td>0.592673</td>\n",
       "      <td>0.654595</td>\n",
       "      <td>0.415529</td>\n",
       "      <td>-0.589486</td>\n",
       "    </tr>\n",
       "    <tr>\n",
       "      <th>std</th>\n",
       "      <td>1.081951</td>\n",
       "      <td>0.558047</td>\n",
       "      <td>0.459101</td>\n",
       "      <td>0.476063</td>\n",
       "    </tr>\n",
       "    <tr>\n",
       "      <th>min</th>\n",
       "      <td>-0.480384</td>\n",
       "      <td>0.092444</td>\n",
       "      <td>-0.092997</td>\n",
       "      <td>-1.132926</td>\n",
       "    </tr>\n",
       "    <tr>\n",
       "      <th>25%</th>\n",
       "      <td>0.047357</td>\n",
       "      <td>0.377669</td>\n",
       "      <td>0.223543</td>\n",
       "      <td>-0.761196</td>\n",
       "    </tr>\n",
       "    <tr>\n",
       "      <th>50%</th>\n",
       "      <td>0.575098</td>\n",
       "      <td>0.662893</td>\n",
       "      <td>0.540083</td>\n",
       "      <td>-0.389467</td>\n",
       "    </tr>\n",
       "    <tr>\n",
       "      <th>75%</th>\n",
       "      <td>1.129201</td>\n",
       "      <td>0.935670</td>\n",
       "      <td>0.669792</td>\n",
       "      <td>-0.317766</td>\n",
       "    </tr>\n",
       "    <tr>\n",
       "      <th>max</th>\n",
       "      <td>1.683304</td>\n",
       "      <td>1.208446</td>\n",
       "      <td>0.799501</td>\n",
       "      <td>-0.246065</td>\n",
       "    </tr>\n",
       "    <tr>\n",
       "      <th rowspan=\"8\" valign=\"top\">Q3</th>\n",
       "      <th>count</th>\n",
       "      <td>3.000000</td>\n",
       "      <td>3.000000</td>\n",
       "      <td>3.000000</td>\n",
       "      <td>3.000000</td>\n",
       "    </tr>\n",
       "    <tr>\n",
       "      <th>mean</th>\n",
       "      <td>-0.176969</td>\n",
       "      <td>0.221722</td>\n",
       "      <td>0.495732</td>\n",
       "      <td>0.343353</td>\n",
       "    </tr>\n",
       "    <tr>\n",
       "      <th>std</th>\n",
       "      <td>0.183853</td>\n",
       "      <td>0.747755</td>\n",
       "      <td>0.379332</td>\n",
       "      <td>0.446317</td>\n",
       "    </tr>\n",
       "    <tr>\n",
       "      <th>min</th>\n",
       "      <td>-0.296549</td>\n",
       "      <td>-0.603926</td>\n",
       "      <td>0.247956</td>\n",
       "      <td>0.039755</td>\n",
       "    </tr>\n",
       "    <tr>\n",
       "      <th>25%</th>\n",
       "      <td>-0.282821</td>\n",
       "      <td>-0.094083</td>\n",
       "      <td>0.277385</td>\n",
       "      <td>0.087128</td>\n",
       "    </tr>\n",
       "    <tr>\n",
       "      <th>50%</th>\n",
       "      <td>-0.269092</td>\n",
       "      <td>0.415760</td>\n",
       "      <td>0.306814</td>\n",
       "      <td>0.134501</td>\n",
       "    </tr>\n",
       "    <tr>\n",
       "      <th>75%</th>\n",
       "      <td>-0.117179</td>\n",
       "      <td>0.634546</td>\n",
       "      <td>0.619620</td>\n",
       "      <td>0.495152</td>\n",
       "    </tr>\n",
       "    <tr>\n",
       "      <th>max</th>\n",
       "      <td>0.034734</td>\n",
       "      <td>0.853332</td>\n",
       "      <td>0.932427</td>\n",
       "      <td>0.855804</td>\n",
       "    </tr>\n",
       "  </tbody>\n",
       "</table>\n",
       "</div>"
      ],
      "text/plain": [
       "                    No1       No2       No3       No4\n",
       "Quarter                                              \n",
       "Q1      count  3.000000  3.000000  3.000000  3.000000\n",
       "        mean  -0.502269  0.292032  0.265519  0.971821\n",
       "        std    1.873659  0.606910  1.182849  0.413099\n",
       "        min   -2.639117 -0.230636 -1.079706  0.540394\n",
       "        25%   -1.183115 -0.040782 -0.173145  0.775854\n",
       "        50%    0.272887  0.149073  0.733415  1.011315\n",
       "        75%    0.566156  0.553366  0.938132  1.187535\n",
       "        max    0.859425  0.957659  1.142849  1.363756\n",
       "Q2      count  3.000000  3.000000  3.000000  3.000000\n",
       "        mean   0.592673  0.654595  0.415529 -0.589486\n",
       "        std    1.081951  0.558047  0.459101  0.476063\n",
       "        min   -0.480384  0.092444 -0.092997 -1.132926\n",
       "        25%    0.047357  0.377669  0.223543 -0.761196\n",
       "        50%    0.575098  0.662893  0.540083 -0.389467\n",
       "        75%    1.129201  0.935670  0.669792 -0.317766\n",
       "        max    1.683304  1.208446  0.799501 -0.246065\n",
       "Q3      count  3.000000  3.000000  3.000000  3.000000\n",
       "        mean  -0.176969  0.221722  0.495732  0.343353\n",
       "        std    0.183853  0.747755  0.379332  0.446317\n",
       "        min   -0.296549 -0.603926  0.247956  0.039755\n",
       "        25%   -0.282821 -0.094083  0.277385  0.087128\n",
       "        50%   -0.269092  0.415760  0.306814  0.134501\n",
       "        75%   -0.117179  0.634546  0.619620  0.495152\n",
       "        max    0.034734  0.853332  0.932427  0.855804"
      ]
     },
     "execution_count": 20,
     "metadata": {},
     "output_type": "execute_result"
    }
   ],
   "source": [
    "groups.describe()"
   ]
  },
  {
   "cell_type": "code",
   "execution_count": 21,
   "metadata": {
    "collapsed": false
   },
   "outputs": [
    {
     "data": {
      "text/html": [
       "<div>\n",
       "<table border=\"1\" class=\"dataframe\">\n",
       "  <thead>\n",
       "    <tr style=\"text-align: right;\">\n",
       "      <th></th>\n",
       "      <th>No1</th>\n",
       "      <th>No2</th>\n",
       "      <th>No3</th>\n",
       "      <th>No4</th>\n",
       "      <th>Quarter</th>\n",
       "      <th>Odd_Even</th>\n",
       "    </tr>\n",
       "  </thead>\n",
       "  <tbody>\n",
       "    <tr>\n",
       "      <th>2015-01-31</th>\n",
       "      <td>0.859425</td>\n",
       "      <td>0.149073</td>\n",
       "      <td>-1.079706</td>\n",
       "      <td>0.540394</td>\n",
       "      <td>Q1</td>\n",
       "      <td>Odd</td>\n",
       "    </tr>\n",
       "    <tr>\n",
       "      <th>2015-02-28</th>\n",
       "      <td>-2.639117</td>\n",
       "      <td>0.957659</td>\n",
       "      <td>0.733415</td>\n",
       "      <td>1.011315</td>\n",
       "      <td>Q1</td>\n",
       "      <td>Even</td>\n",
       "    </tr>\n",
       "    <tr>\n",
       "      <th>2015-03-31</th>\n",
       "      <td>0.272887</td>\n",
       "      <td>-0.230636</td>\n",
       "      <td>1.142849</td>\n",
       "      <td>1.363756</td>\n",
       "      <td>Q1</td>\n",
       "      <td>Odd</td>\n",
       "    </tr>\n",
       "    <tr>\n",
       "      <th>2015-04-30</th>\n",
       "      <td>0.575098</td>\n",
       "      <td>0.662893</td>\n",
       "      <td>0.540083</td>\n",
       "      <td>-0.246065</td>\n",
       "      <td>Q2</td>\n",
       "      <td>Even</td>\n",
       "    </tr>\n",
       "    <tr>\n",
       "      <th>2015-05-31</th>\n",
       "      <td>-0.480384</td>\n",
       "      <td>1.208446</td>\n",
       "      <td>0.799501</td>\n",
       "      <td>-0.389467</td>\n",
       "      <td>Q2</td>\n",
       "      <td>Odd</td>\n",
       "    </tr>\n",
       "    <tr>\n",
       "      <th>2015-06-30</th>\n",
       "      <td>1.683304</td>\n",
       "      <td>0.092444</td>\n",
       "      <td>-0.092997</td>\n",
       "      <td>-1.132926</td>\n",
       "      <td>Q2</td>\n",
       "      <td>Even</td>\n",
       "    </tr>\n",
       "    <tr>\n",
       "      <th>2015-07-31</th>\n",
       "      <td>0.034734</td>\n",
       "      <td>0.415760</td>\n",
       "      <td>0.247956</td>\n",
       "      <td>0.039755</td>\n",
       "      <td>Q3</td>\n",
       "      <td>Odd</td>\n",
       "    </tr>\n",
       "    <tr>\n",
       "      <th>2015-08-31</th>\n",
       "      <td>-0.269092</td>\n",
       "      <td>0.853332</td>\n",
       "      <td>0.306814</td>\n",
       "      <td>0.855804</td>\n",
       "      <td>Q3</td>\n",
       "      <td>Even</td>\n",
       "    </tr>\n",
       "    <tr>\n",
       "      <th>2015-09-30</th>\n",
       "      <td>-0.296549</td>\n",
       "      <td>-0.603926</td>\n",
       "      <td>0.932427</td>\n",
       "      <td>0.134501</td>\n",
       "      <td>Q3</td>\n",
       "      <td>Odd</td>\n",
       "    </tr>\n",
       "  </tbody>\n",
       "</table>\n",
       "</div>"
      ],
      "text/plain": [
       "                 No1       No2       No3       No4 Quarter Odd_Even\n",
       "2015-01-31  0.859425  0.149073 -1.079706  0.540394      Q1      Odd\n",
       "2015-02-28 -2.639117  0.957659  0.733415  1.011315      Q1     Even\n",
       "2015-03-31  0.272887 -0.230636  1.142849  1.363756      Q1      Odd\n",
       "2015-04-30  0.575098  0.662893  0.540083 -0.246065      Q2     Even\n",
       "2015-05-31 -0.480384  1.208446  0.799501 -0.389467      Q2      Odd\n",
       "2015-06-30  1.683304  0.092444 -0.092997 -1.132926      Q2     Even\n",
       "2015-07-31  0.034734  0.415760  0.247956  0.039755      Q3      Odd\n",
       "2015-08-31 -0.269092  0.853332  0.306814  0.855804      Q3     Even\n",
       "2015-09-30 -0.296549 -0.603926  0.932427  0.134501      Q3      Odd"
      ]
     },
     "execution_count": 21,
     "metadata": {},
     "output_type": "execute_result"
    }
   ],
   "source": [
    "# grouping with multiple columns\n",
    "df['Odd_Even'] = ['Odd', 'Even', 'Odd', 'Even', 'Odd', 'Even', 'Odd', 'Even', 'Odd']\n",
    "df"
   ]
  },
  {
   "cell_type": "code",
   "execution_count": 22,
   "metadata": {
    "collapsed": false
   },
   "outputs": [],
   "source": [
    "groups = df.groupby(['Quarter', 'Odd_Even'])"
   ]
  },
  {
   "cell_type": "code",
   "execution_count": 23,
   "metadata": {
    "collapsed": false
   },
   "outputs": [
    {
     "data": {
      "text/plain": [
       "Quarter  Odd_Even\n",
       "Q1       Even        1\n",
       "         Odd         2\n",
       "Q2       Even        2\n",
       "         Odd         1\n",
       "Q3       Even        1\n",
       "         Odd         2\n",
       "dtype: int64"
      ]
     },
     "execution_count": 23,
     "metadata": {},
     "output_type": "execute_result"
    }
   ],
   "source": [
    "groups.size()"
   ]
  },
  {
   "cell_type": "code",
   "execution_count": 24,
   "metadata": {
    "collapsed": false
   },
   "outputs": [
    {
     "data": {
      "text/html": [
       "<div>\n",
       "<table border=\"1\" class=\"dataframe\">\n",
       "  <thead>\n",
       "    <tr style=\"text-align: right;\">\n",
       "      <th></th>\n",
       "      <th></th>\n",
       "      <th>No1</th>\n",
       "      <th>No2</th>\n",
       "      <th>No3</th>\n",
       "      <th>No4</th>\n",
       "    </tr>\n",
       "    <tr>\n",
       "      <th>Quarter</th>\n",
       "      <th>Odd_Even</th>\n",
       "      <th></th>\n",
       "      <th></th>\n",
       "      <th></th>\n",
       "      <th></th>\n",
       "    </tr>\n",
       "  </thead>\n",
       "  <tbody>\n",
       "    <tr>\n",
       "      <th rowspan=\"2\" valign=\"top\">Q1</th>\n",
       "      <th>Even</th>\n",
       "      <td>-2.639117</td>\n",
       "      <td>0.957659</td>\n",
       "      <td>0.733415</td>\n",
       "      <td>1.011315</td>\n",
       "    </tr>\n",
       "    <tr>\n",
       "      <th>Odd</th>\n",
       "      <td>0.566156</td>\n",
       "      <td>-0.040782</td>\n",
       "      <td>0.031571</td>\n",
       "      <td>0.952075</td>\n",
       "    </tr>\n",
       "    <tr>\n",
       "      <th rowspan=\"2\" valign=\"top\">Q2</th>\n",
       "      <th>Even</th>\n",
       "      <td>1.129201</td>\n",
       "      <td>0.377669</td>\n",
       "      <td>0.223543</td>\n",
       "      <td>-0.689495</td>\n",
       "    </tr>\n",
       "    <tr>\n",
       "      <th>Odd</th>\n",
       "      <td>-0.480384</td>\n",
       "      <td>1.208446</td>\n",
       "      <td>0.799501</td>\n",
       "      <td>-0.389467</td>\n",
       "    </tr>\n",
       "    <tr>\n",
       "      <th rowspan=\"2\" valign=\"top\">Q3</th>\n",
       "      <th>Even</th>\n",
       "      <td>-0.269092</td>\n",
       "      <td>0.853332</td>\n",
       "      <td>0.306814</td>\n",
       "      <td>0.855804</td>\n",
       "    </tr>\n",
       "    <tr>\n",
       "      <th>Odd</th>\n",
       "      <td>-0.130908</td>\n",
       "      <td>-0.094083</td>\n",
       "      <td>0.590191</td>\n",
       "      <td>0.087128</td>\n",
       "    </tr>\n",
       "  </tbody>\n",
       "</table>\n",
       "</div>"
      ],
      "text/plain": [
       "                       No1       No2       No3       No4\n",
       "Quarter Odd_Even                                        \n",
       "Q1      Even     -2.639117  0.957659  0.733415  1.011315\n",
       "        Odd       0.566156 -0.040782  0.031571  0.952075\n",
       "Q2      Even      1.129201  0.377669  0.223543 -0.689495\n",
       "        Odd      -0.480384  1.208446  0.799501 -0.389467\n",
       "Q3      Even     -0.269092  0.853332  0.306814  0.855804\n",
       "        Odd      -0.130908 -0.094083  0.590191  0.087128"
      ]
     },
     "execution_count": 24,
     "metadata": {},
     "output_type": "execute_result"
    }
   ],
   "source": [
    "groups.mean()"
   ]
  },
  {
   "cell_type": "code",
   "execution_count": 25,
   "metadata": {
    "collapsed": false
   },
   "outputs": [
    {
     "name": "stderr",
     "output_type": "stream",
     "text": [
      "/home/alexandrepetit/anaconda3/lib/python3.5/site-packages/pandas/io/data.py:35: FutureWarning: \n",
      "The pandas.io.data module is moved to a separate package (pandas-datareader) and will be removed from pandas in a future version.\n",
      "After installing the pandas-datareader package (https://github.com/pydata/pandas-datareader), you can change the import ``from pandas.io import data, wb`` to ``from pandas_datareader import data, wb``.\n",
      "  FutureWarning)\n"
     ]
    },
    {
     "name": "stdout",
     "output_type": "stream",
     "text": [
      "<class 'pandas.core.frame.DataFrame'>\n",
      "DatetimeIndex: 4218 entries, 2000-01-03 to 2016-07-22\n",
      "Data columns (total 6 columns):\n",
      "Open         4218 non-null float64\n",
      "High         4218 non-null float64\n",
      "Low          4218 non-null float64\n",
      "Close        4218 non-null float64\n",
      "Volume       4218 non-null int64\n",
      "Adj Close    4218 non-null float64\n",
      "dtypes: float64(5), int64(1)\n",
      "memory usage: 230.7 KB\n"
     ]
    }
   ],
   "source": [
    "# Financial data\n",
    "import pandas.io.data as web\n",
    "\n",
    "DAX = web.DataReader(name='^GDAXI', data_source='yahoo', start='2000-1-1')\n",
    "DAX.info()"
   ]
  },
  {
   "cell_type": "code",
   "execution_count": 26,
   "metadata": {
    "collapsed": false
   },
   "outputs": [
    {
     "data": {
      "text/html": [
       "<div>\n",
       "<table border=\"1\" class=\"dataframe\">\n",
       "  <thead>\n",
       "    <tr style=\"text-align: right;\">\n",
       "      <th></th>\n",
       "      <th>Open</th>\n",
       "      <th>High</th>\n",
       "      <th>Low</th>\n",
       "      <th>Close</th>\n",
       "      <th>Volume</th>\n",
       "      <th>Adj Close</th>\n",
       "    </tr>\n",
       "    <tr>\n",
       "      <th>Date</th>\n",
       "      <th></th>\n",
       "      <th></th>\n",
       "      <th></th>\n",
       "      <th></th>\n",
       "      <th></th>\n",
       "      <th></th>\n",
       "    </tr>\n",
       "  </thead>\n",
       "  <tbody>\n",
       "    <tr>\n",
       "      <th>2016-07-18</th>\n",
       "      <td>10079.030273</td>\n",
       "      <td>10160.299805</td>\n",
       "      <td>10011.839844</td>\n",
       "      <td>10063.129883</td>\n",
       "      <td>68620600</td>\n",
       "      <td>10063.129883</td>\n",
       "    </tr>\n",
       "    <tr>\n",
       "      <th>2016-07-19</th>\n",
       "      <td>10038.950195</td>\n",
       "      <td>10050.769531</td>\n",
       "      <td>9923.639648</td>\n",
       "      <td>9981.240234</td>\n",
       "      <td>67213700</td>\n",
       "      <td>9981.240234</td>\n",
       "    </tr>\n",
       "    <tr>\n",
       "      <th>2016-07-20</th>\n",
       "      <td>10054.540039</td>\n",
       "      <td>10146.709961</td>\n",
       "      <td>9991.650391</td>\n",
       "      <td>10142.009766</td>\n",
       "      <td>77317900</td>\n",
       "      <td>10142.009766</td>\n",
       "    </tr>\n",
       "    <tr>\n",
       "      <th>2016-07-21</th>\n",
       "      <td>10195.400391</td>\n",
       "      <td>10195.650391</td>\n",
       "      <td>10090.120117</td>\n",
       "      <td>10156.209961</td>\n",
       "      <td>94605600</td>\n",
       "      <td>10156.209961</td>\n",
       "    </tr>\n",
       "    <tr>\n",
       "      <th>2016-07-22</th>\n",
       "      <td>10130.509766</td>\n",
       "      <td>10181.240234</td>\n",
       "      <td>10073.280273</td>\n",
       "      <td>10147.459961</td>\n",
       "      <td>60843200</td>\n",
       "      <td>10147.459961</td>\n",
       "    </tr>\n",
       "  </tbody>\n",
       "</table>\n",
       "</div>"
      ],
      "text/plain": [
       "                    Open          High           Low         Close    Volume  \\\n",
       "Date                                                                           \n",
       "2016-07-18  10079.030273  10160.299805  10011.839844  10063.129883  68620600   \n",
       "2016-07-19  10038.950195  10050.769531   9923.639648   9981.240234  67213700   \n",
       "2016-07-20  10054.540039  10146.709961   9991.650391  10142.009766  77317900   \n",
       "2016-07-21  10195.400391  10195.650391  10090.120117  10156.209961  94605600   \n",
       "2016-07-22  10130.509766  10181.240234  10073.280273  10147.459961  60843200   \n",
       "\n",
       "               Adj Close  \n",
       "Date                      \n",
       "2016-07-18  10063.129883  \n",
       "2016-07-19   9981.240234  \n",
       "2016-07-20  10142.009766  \n",
       "2016-07-21  10156.209961  \n",
       "2016-07-22  10147.459961  "
      ]
     },
     "execution_count": 26,
     "metadata": {},
     "output_type": "execute_result"
    }
   ],
   "source": [
    "# five last rows\n",
    "DAX.tail()"
   ]
  },
  {
   "cell_type": "code",
   "execution_count": 27,
   "metadata": {
    "collapsed": false
   },
   "outputs": [
    {
     "data": {
      "text/plain": [
       "<matplotlib.axes._subplots.AxesSubplot at 0x7f3ec60b7b70>"
      ]
     },
     "execution_count": 27,
     "metadata": {},
     "output_type": "execute_result"
    },
    {
     "data": {
      "image/png": "[encoded data removed]",
      "text/plain": [
       "<matplotlib.figure.Figure at 0x7f3ec601ca58>"
      ]
     },
     "metadata": {},
     "output_type": "display_data"
    }
   ],
   "source": [
    "DAX['Close'].plot(figsize=(8, 5))"
   ]
  },
  {
   "cell_type": "code",
   "execution_count": 28,
   "metadata": {
    "collapsed": true
   },
   "outputs": [],
   "source": [
    "DAX['Return'] = np.log(DAX['Close'] / DAX['Close'].shift(1))"
   ]
  },
  {
   "cell_type": "code",
   "execution_count": 29,
   "metadata": {
    "collapsed": false
   },
   "outputs": [
    {
     "data": {
      "text/html": [
       "<div>\n",
       "<table border=\"1\" class=\"dataframe\">\n",
       "  <thead>\n",
       "    <tr style=\"text-align: right;\">\n",
       "      <th></th>\n",
       "      <th>Return</th>\n",
       "      <th>Close</th>\n",
       "    </tr>\n",
       "    <tr>\n",
       "      <th>Date</th>\n",
       "      <th></th>\n",
       "      <th></th>\n",
       "    </tr>\n",
       "  </thead>\n",
       "  <tbody>\n",
       "    <tr>\n",
       "      <th>2016-07-18</th>\n",
       "      <td>-0.000375</td>\n",
       "      <td>10063.129883</td>\n",
       "    </tr>\n",
       "    <tr>\n",
       "      <th>2016-07-19</th>\n",
       "      <td>-0.008171</td>\n",
       "      <td>9981.240234</td>\n",
       "    </tr>\n",
       "    <tr>\n",
       "      <th>2016-07-20</th>\n",
       "      <td>0.015979</td>\n",
       "      <td>10142.009766</td>\n",
       "    </tr>\n",
       "    <tr>\n",
       "      <th>2016-07-21</th>\n",
       "      <td>0.001399</td>\n",
       "      <td>10156.209961</td>\n",
       "    </tr>\n",
       "    <tr>\n",
       "      <th>2016-07-22</th>\n",
       "      <td>-0.000862</td>\n",
       "      <td>10147.459961</td>\n",
       "    </tr>\n",
       "  </tbody>\n",
       "</table>\n",
       "</div>"
      ],
      "text/plain": [
       "              Return         Close\n",
       "Date                              \n",
       "2016-07-18 -0.000375  10063.129883\n",
       "2016-07-19 -0.008171   9981.240234\n",
       "2016-07-20  0.015979  10142.009766\n",
       "2016-07-21  0.001399  10156.209961\n",
       "2016-07-22 -0.000862  10147.459961"
      ]
     },
     "execution_count": 29,
     "metadata": {},
     "output_type": "execute_result"
    }
   ],
   "source": [
    "DAX[['Return', 'Close']].tail()"
   ]
  },
  {
   "cell_type": "code",
   "execution_count": 30,
   "metadata": {
    "collapsed": false
   },
   "outputs": [
    {
     "data": {
      "text/plain": [
       "array([<matplotlib.axes._subplots.AxesSubplot object at 0x7f3ec5ff4588>,\n",
       "       <matplotlib.axes._subplots.AxesSubplot object at 0x7f3ec571d400>], dtype=object)"
      ]
     },
     "execution_count": 30,
     "metadata": {},
     "output_type": "execute_result"
    },
    {
     "data": {
      "image/png": "[encoded data removed]",
      "text/plain": [
       "<matplotlib.figure.Figure at 0x7f3ec5fff0f0>"
      ]
     },
     "metadata": {},
     "output_type": "display_data"
    }
   ],
   "source": [
    "DAX[['Close', 'Return']].plot(subplots=True, style='b', figsize=(8, 5))"
   ]
  },
  {
   "cell_type": "code",
   "execution_count": 31,
   "metadata": {
    "collapsed": false
   },
   "outputs": [],
   "source": [
    "DAX['42d'] = DAX['Close'].rolling(center=False, window=42).mean()\n",
    "DAX['252d'] = DAX['Close'].rolling(center=False, window=252).mean()"
   ]
  },
  {
   "cell_type": "code",
   "execution_count": 32,
   "metadata": {
    "collapsed": false
   },
   "outputs": [
    {
     "data": {
      "text/html": [
       "<div>\n",
       "<table border=\"1\" class=\"dataframe\">\n",
       "  <thead>\n",
       "    <tr style=\"text-align: right;\">\n",
       "      <th></th>\n",
       "      <th>Close</th>\n",
       "      <th>42d</th>\n",
       "      <th>252d</th>\n",
       "    </tr>\n",
       "    <tr>\n",
       "      <th>Date</th>\n",
       "      <th></th>\n",
       "      <th></th>\n",
       "      <th></th>\n",
       "    </tr>\n",
       "  </thead>\n",
       "  <tbody>\n",
       "    <tr>\n",
       "      <th>2016-07-18</th>\n",
       "      <td>10063.129883</td>\n",
       "      <td>9891.503116</td>\n",
       "      <td>10155.933900</td>\n",
       "    </tr>\n",
       "    <tr>\n",
       "      <th>2016-07-19</th>\n",
       "      <td>9981.240234</td>\n",
       "      <td>9893.055990</td>\n",
       "      <td>10149.825052</td>\n",
       "    </tr>\n",
       "    <tr>\n",
       "      <th>2016-07-20</th>\n",
       "      <td>10142.009766</td>\n",
       "      <td>9900.192174</td>\n",
       "      <td>10144.388145</td>\n",
       "    </tr>\n",
       "    <tr>\n",
       "      <th>2016-07-21</th>\n",
       "      <td>10156.209961</td>\n",
       "      <td>9902.546945</td>\n",
       "      <td>10139.661001</td>\n",
       "    </tr>\n",
       "    <tr>\n",
       "      <th>2016-07-22</th>\n",
       "      <td>10147.459961</td>\n",
       "      <td>9901.171945</td>\n",
       "      <td>10136.054095</td>\n",
       "    </tr>\n",
       "  </tbody>\n",
       "</table>\n",
       "</div>"
      ],
      "text/plain": [
       "                   Close          42d          252d\n",
       "Date                                               \n",
       "2016-07-18  10063.129883  9891.503116  10155.933900\n",
       "2016-07-19   9981.240234  9893.055990  10149.825052\n",
       "2016-07-20  10142.009766  9900.192174  10144.388145\n",
       "2016-07-21  10156.209961  9902.546945  10139.661001\n",
       "2016-07-22  10147.459961  9901.171945  10136.054095"
      ]
     },
     "execution_count": 32,
     "metadata": {},
     "output_type": "execute_result"
    }
   ],
   "source": [
    "DAX[['Close', '42d', '252d']].tail()"
   ]
  },
  {
   "cell_type": "code",
   "execution_count": 33,
   "metadata": {
    "collapsed": false
   },
   "outputs": [
    {
     "data": {
      "text/plain": [
       "<matplotlib.axes._subplots.AxesSubplot at 0x7f3ec561a0b8>"
      ]
     },
     "execution_count": 33,
     "metadata": {},
     "output_type": "execute_result"
    },
    {
     "data": {
      "image/png": "[encoded data removed]",
      "text/plain": [
       "<matplotlib.figure.Figure at 0x7f3ec5624a20>"
      ]
     },
     "metadata": {},
     "output_type": "display_data"
    }
   ],
   "source": [
    "# plot the moving averages\n",
    "DAX[['Close', '42d', '252d']].plot(figsize=(8, 5))"
   ]
  },
  {
   "cell_type": "code",
   "execution_count": 34,
   "metadata": {
    "collapsed": false
   },
   "outputs": [],
   "source": [
    "# moving historical volatility\n",
    "import math\n",
    "DAX['Mov_Vol'] = DAX['Return'].rolling(center=False, window=252).std() * math.sqrt(252)"
   ]
  },
  {
   "cell_type": "code",
   "execution_count": 35,
   "metadata": {
    "collapsed": false
   },
   "outputs": [
    {
     "data": {
      "text/plain": [
       "array([<matplotlib.axes._subplots.AxesSubplot object at 0x7f3ec5611a90>,\n",
       "       <matplotlib.axes._subplots.AxesSubplot object at 0x7f3ec5561b70>,\n",
       "       <matplotlib.axes._subplots.AxesSubplot object at 0x7f3ec54e8da0>], dtype=object)"
      ]
     },
     "execution_count": 35,
     "metadata": {},
     "output_type": "execute_result"
    },
    {
     "data": {
      "image/png": "[encoded data removed]",
      "text/plain": [
       "<matplotlib.figure.Figure at 0x7f3ec5602780>"
      ]
     },
     "metadata": {},
     "output_type": "display_data"
    }
   ],
   "source": [
    "DAX[['Close', 'Mov_Vol', 'Return']].plot(subplots=True, style='b', figsize=(8, 7))"
   ]
  },
  {
   "cell_type": "code",
   "execution_count": 36,
   "metadata": {
    "collapsed": false
   },
   "outputs": [
    {
     "data": {
      "text/plain": [
       "('./data/vs.txt', <http.client.HTTPMessage at 0x7f3ec5359550>)"
      ]
     },
     "execution_count": 36,
     "metadata": {},
     "output_type": "execute_result"
    }
   ],
   "source": [
    "# Regression analysis\n",
    "from urllib.request import urlretrieve\n",
    "\n",
    "es_url = 'http://www.stoxx.com/download/historical_values/hbrbcpe.txt'\n",
    "vs_url = 'http://www.stoxx.com/download/historical_values/h_vstoxx.txt'\n",
    "\n",
    "urlretrieve(es_url, './data/es.txt')\n",
    "urlretrieve(vs_url, './data/vs.txt')"
   ]
  },
  {
   "cell_type": "code",
   "execution_count": 37,
   "metadata": {
    "collapsed": false
   },
   "outputs": [
    {
     "data": {
      "text/plain": [
       "['PriceIndices-EUROCurrency\\n',\n",
       " 'Date;Blue-Chip;Blue-Chip;Broad;Broad;ExUK;ExEuroZone;Blue-Chip;Broad\\n',\n",
       " ';Europe;Euro-Zone;Europe;Euro-Zone;;;Nordic;Nordic\\n',\n",
       " ';SX5P;SX5E;SXXP;SXXE;SXXF;SXXA;DK5F;DKXF\\n',\n",
       " '31.12.1986;775.00;900.82;82.76;98.58;98.06;69.06;645.26;65.56\\n',\n",
       " '01.01.1987;775.00;900.82;82.76;98.58;98.06;69.06;645.26;65.56\\n']"
      ]
     },
     "execution_count": 37,
     "metadata": {},
     "output_type": "execute_result"
    }
   ],
   "source": [
    "lines = open('./data/es.txt', 'r').readlines()\n",
    "lines = [line.replace(' ', '') for line in lines]\n",
    "lines[:6]"
   ]
  },
  {
   "cell_type": "code",
   "execution_count": 38,
   "metadata": {
    "collapsed": true
   },
   "outputs": [],
   "source": [
    "# do some cleaning\n",
    "new_file = open('./data/es50.txt', 'w')\n",
    "new_file.writelines('data' + lines[3][:-1]\n",
    "                    + ';DEL' + lines[3][-1])\n",
    "new_file.writelines(lines[4:])\n",
    "new_file.close()"
   ]
  },
  {
   "cell_type": "code",
   "execution_count": 39,
   "metadata": {
    "collapsed": false
   },
   "outputs": [
    {
     "data": {
      "text/plain": [
       "['data;SX5P;SX5E;SXXP;SXXE;SXXF;SXXA;DK5F;DKXF;DEL\\n',\n",
       " '31.12.1986;775.00;900.82;82.76;98.58;98.06;69.06;645.26;65.56\\n',\n",
       " '01.01.1987;775.00;900.82;82.76;98.58;98.06;69.06;645.26;65.56\\n',\n",
       " '02.01.1987;770.89;891.78;82.57;97.80;97.43;69.37;647.62;65.81\\n',\n",
       " '05.01.1987;771.89;898.33;82.82;98.60;98.19;69.16;649.94;65.82\\n']"
      ]
     },
     "execution_count": 39,
     "metadata": {},
     "output_type": "execute_result"
    }
   ],
   "source": [
    "new_lines = open('./data/es50.txt', 'r').readlines()\n",
    "new_lines[:5]"
   ]
  },
  {
   "cell_type": "code",
   "execution_count": 40,
   "metadata": {
    "collapsed": false
   },
   "outputs": [
    {
     "data": {
      "text/html": [
       "<div>\n",
       "<table border=\"1\" class=\"dataframe\">\n",
       "  <thead>\n",
       "    <tr style=\"text-align: right;\">\n",
       "      <th></th>\n",
       "      <th>SX5P</th>\n",
       "      <th>SX5E</th>\n",
       "      <th>SXXP</th>\n",
       "      <th>SXXE</th>\n",
       "      <th>SXXF</th>\n",
       "      <th>SXXA</th>\n",
       "      <th>DK5F</th>\n",
       "      <th>DKXF</th>\n",
       "      <th>DEL</th>\n",
       "    </tr>\n",
       "    <tr>\n",
       "      <th>data</th>\n",
       "      <th></th>\n",
       "      <th></th>\n",
       "      <th></th>\n",
       "      <th></th>\n",
       "      <th></th>\n",
       "      <th></th>\n",
       "      <th></th>\n",
       "      <th></th>\n",
       "      <th></th>\n",
       "    </tr>\n",
       "  </thead>\n",
       "  <tbody>\n",
       "    <tr>\n",
       "      <th>2016-04-26</th>\n",
       "      <td>2922.57</td>\n",
       "      <td>3121.29</td>\n",
       "      <td>347.31</td>\n",
       "      <td>330.30</td>\n",
       "      <td>411.75</td>\n",
       "      <td>353.79</td>\n",
       "      <td>9395.03</td>\n",
       "      <td>587.73</td>\n",
       "      <td>NaN</td>\n",
       "    </tr>\n",
       "    <tr>\n",
       "      <th>2016-04-27</th>\n",
       "      <td>2927.31</td>\n",
       "      <td>3130.43</td>\n",
       "      <td>348.32</td>\n",
       "      <td>331.69</td>\n",
       "      <td>413.25</td>\n",
       "      <td>354.41</td>\n",
       "      <td>9424.15</td>\n",
       "      <td>589.23</td>\n",
       "      <td>NaN</td>\n",
       "    </tr>\n",
       "    <tr>\n",
       "      <th>2016-04-28</th>\n",
       "      <td>2932.00</td>\n",
       "      <td>3125.43</td>\n",
       "      <td>348.90</td>\n",
       "      <td>331.76</td>\n",
       "      <td>413.78</td>\n",
       "      <td>355.47</td>\n",
       "      <td>9459.04</td>\n",
       "      <td>591.95</td>\n",
       "      <td>NaN</td>\n",
       "    </tr>\n",
       "    <tr>\n",
       "      <th>2016-04-29</th>\n",
       "      <td>2856.28</td>\n",
       "      <td>3028.21</td>\n",
       "      <td>341.48</td>\n",
       "      <td>323.70</td>\n",
       "      <td>404.71</td>\n",
       "      <td>348.87</td>\n",
       "      <td>9278.19</td>\n",
       "      <td>581.67</td>\n",
       "      <td>NaN</td>\n",
       "    </tr>\n",
       "    <tr>\n",
       "      <th>2016-05-02</th>\n",
       "      <td>2852.10</td>\n",
       "      <td>3032.60</td>\n",
       "      <td>341.24</td>\n",
       "      <td>324.22</td>\n",
       "      <td>404.91</td>\n",
       "      <td>347.90</td>\n",
       "      <td>9238.16</td>\n",
       "      <td>578.79</td>\n",
       "      <td>NaN</td>\n",
       "    </tr>\n",
       "  </tbody>\n",
       "</table>\n",
       "</div>"
      ],
      "text/plain": [
       "               SX5P     SX5E    SXXP    SXXE    SXXF    SXXA     DK5F    DKXF  \\\n",
       "data                                                                            \n",
       "2016-04-26  2922.57  3121.29  347.31  330.30  411.75  353.79  9395.03  587.73   \n",
       "2016-04-27  2927.31  3130.43  348.32  331.69  413.25  354.41  9424.15  589.23   \n",
       "2016-04-28  2932.00  3125.43  348.90  331.76  413.78  355.47  9459.04  591.95   \n",
       "2016-04-29  2856.28  3028.21  341.48  323.70  404.71  348.87  9278.19  581.67   \n",
       "2016-05-02  2852.10  3032.60  341.24  324.22  404.91  347.90  9238.16  578.79   \n",
       "\n",
       "            DEL  \n",
       "data             \n",
       "2016-04-26  NaN  \n",
       "2016-04-27  NaN  \n",
       "2016-04-28  NaN  \n",
       "2016-04-29  NaN  \n",
       "2016-05-02  NaN  "
      ]
     },
     "execution_count": 40,
     "metadata": {},
     "output_type": "execute_result"
    }
   ],
   "source": [
    "# import as pandas\n",
    "es = pd.read_csv('./data/es50.txt', index_col=0,\n",
    "                 parse_dates=True, sep=';', dayfirst=True)\n",
    "es.tail()"
   ]
  },
  {
   "cell_type": "code",
   "execution_count": 41,
   "metadata": {
    "collapsed": false
   },
   "outputs": [
    {
     "name": "stdout",
     "output_type": "stream",
     "text": [
      "<class 'pandas.core.frame.DataFrame'>\n",
      "DatetimeIndex: 7562 entries, 1986-12-31 to 2016-05-02\n",
      "Data columns (total 8 columns):\n",
      "SX5P    7562 non-null float64\n",
      "SX5E    7562 non-null float64\n",
      "SXXP    7562 non-null float64\n",
      "SXXE    7562 non-null float64\n",
      "SXXF    7562 non-null float64\n",
      "SXXA    7562 non-null float64\n",
      "DK5F    7562 non-null float64\n",
      "DKXF    7562 non-null float64\n",
      "dtypes: float64(8)\n",
      "memory usage: 531.7 KB\n"
     ]
    }
   ],
   "source": [
    "# delete DEL column which purpose was to catch trailing semicolons\n",
    "del es['DEL']\n",
    "es.info()"
   ]
  },
  {
   "cell_type": "code",
   "execution_count": 42,
   "metadata": {
    "collapsed": false
   },
   "outputs": [
    {
     "data": {
      "text/html": [
       "<div>\n",
       "<table border=\"1\" class=\"dataframe\">\n",
       "  <thead>\n",
       "    <tr style=\"text-align: right;\">\n",
       "      <th></th>\n",
       "      <th>SX5P</th>\n",
       "      <th>SX5E</th>\n",
       "      <th>SXXP</th>\n",
       "      <th>SXXE</th>\n",
       "      <th>SXXF</th>\n",
       "      <th>SXXA</th>\n",
       "      <th>DK5F</th>\n",
       "      <th>DKXF</th>\n",
       "    </tr>\n",
       "  </thead>\n",
       "  <tbody>\n",
       "    <tr>\n",
       "      <th>2016-04-26</th>\n",
       "      <td>2922.57</td>\n",
       "      <td>3121.29</td>\n",
       "      <td>347.31</td>\n",
       "      <td>330.30</td>\n",
       "      <td>411.75</td>\n",
       "      <td>353.79</td>\n",
       "      <td>9395.03</td>\n",
       "      <td>587.73</td>\n",
       "    </tr>\n",
       "    <tr>\n",
       "      <th>2016-04-27</th>\n",
       "      <td>2927.31</td>\n",
       "      <td>3130.43</td>\n",
       "      <td>348.32</td>\n",
       "      <td>331.69</td>\n",
       "      <td>413.25</td>\n",
       "      <td>354.41</td>\n",
       "      <td>9424.15</td>\n",
       "      <td>589.23</td>\n",
       "    </tr>\n",
       "    <tr>\n",
       "      <th>2016-04-28</th>\n",
       "      <td>2932.00</td>\n",
       "      <td>3125.43</td>\n",
       "      <td>348.90</td>\n",
       "      <td>331.76</td>\n",
       "      <td>413.78</td>\n",
       "      <td>355.47</td>\n",
       "      <td>9459.04</td>\n",
       "      <td>591.95</td>\n",
       "    </tr>\n",
       "    <tr>\n",
       "      <th>2016-04-29</th>\n",
       "      <td>2856.28</td>\n",
       "      <td>3028.21</td>\n",
       "      <td>341.48</td>\n",
       "      <td>323.70</td>\n",
       "      <td>404.71</td>\n",
       "      <td>348.87</td>\n",
       "      <td>9278.19</td>\n",
       "      <td>581.67</td>\n",
       "    </tr>\n",
       "    <tr>\n",
       "      <th>2016-05-02</th>\n",
       "      <td>2852.10</td>\n",
       "      <td>3032.60</td>\n",
       "      <td>341.24</td>\n",
       "      <td>324.22</td>\n",
       "      <td>404.91</td>\n",
       "      <td>347.90</td>\n",
       "      <td>9238.16</td>\n",
       "      <td>578.79</td>\n",
       "    </tr>\n",
       "  </tbody>\n",
       "</table>\n",
       "</div>"
      ],
      "text/plain": [
       "               SX5P     SX5E    SXXP    SXXE    SXXF    SXXA     DK5F    DKXF\n",
       "2016-04-26  2922.57  3121.29  347.31  330.30  411.75  353.79  9395.03  587.73\n",
       "2016-04-27  2927.31  3130.43  348.32  331.69  413.25  354.41  9424.15  589.23\n",
       "2016-04-28  2932.00  3125.43  348.90  331.76  413.78  355.47  9459.04  591.95\n",
       "2016-04-29  2856.28  3028.21  341.48  323.70  404.71  348.87  9278.19  581.67\n",
       "2016-05-02  2852.10  3032.60  341.24  324.22  404.91  347.90  9238.16  578.79"
      ]
     },
     "execution_count": 42,
     "metadata": {},
     "output_type": "execute_result"
    }
   ],
   "source": [
    "# import more compact and efficient\n",
    "cols = ['SX5P', 'SX5E', 'SXXP', 'SXXE', 'SXXF',\n",
    "        'SXXA', 'DK5F', 'DKXF']\n",
    "es = pd.read_csv(es_url, index_col=0, parse_dates=True,\n",
    "                 sep=';', dayfirst=True, header=None,\n",
    "                 skiprows=4, names=cols)\n",
    "es.tail()"
   ]
  },
  {
   "cell_type": "code",
   "execution_count": 43,
   "metadata": {
    "collapsed": false
   },
   "outputs": [
    {
     "data": {
      "text/html": [
       "<div>\n",
       "<table border=\"1\" class=\"dataframe\">\n",
       "  <thead>\n",
       "    <tr style=\"text-align: right;\">\n",
       "      <th></th>\n",
       "      <th>V2TX</th>\n",
       "      <th>V6I1</th>\n",
       "      <th>V6I2</th>\n",
       "      <th>V6I3</th>\n",
       "      <th>V6I4</th>\n",
       "      <th>V6I5</th>\n",
       "      <th>V6I6</th>\n",
       "      <th>V6I7</th>\n",
       "      <th>V6I8</th>\n",
       "    </tr>\n",
       "  </thead>\n",
       "  <tbody>\n",
       "    <tr>\n",
       "      <th>2016-02-08</th>\n",
       "      <td>33.3917</td>\n",
       "      <td>34.7251</td>\n",
       "      <td>33.2189</td>\n",
       "      <td>31.8308</td>\n",
       "      <td>31.4783</td>\n",
       "      <td>30.6941</td>\n",
       "      <td>30.3705</td>\n",
       "      <td>29.8478</td>\n",
       "      <td>29.2559</td>\n",
       "    </tr>\n",
       "    <tr>\n",
       "      <th>2016-02-09</th>\n",
       "      <td>33.9664</td>\n",
       "      <td>35.7884</td>\n",
       "      <td>33.7800</td>\n",
       "      <td>32.6220</td>\n",
       "      <td>32.2459</td>\n",
       "      <td>31.5572</td>\n",
       "      <td>31.1659</td>\n",
       "      <td>30.5339</td>\n",
       "      <td>29.9000</td>\n",
       "    </tr>\n",
       "    <tr>\n",
       "      <th>2016-02-10</th>\n",
       "      <td>33.4528</td>\n",
       "      <td>34.6020</td>\n",
       "      <td>33.3637</td>\n",
       "      <td>32.1438</td>\n",
       "      <td>32.0018</td>\n",
       "      <td>31.2099</td>\n",
       "      <td>30.9937</td>\n",
       "      <td>30.8174</td>\n",
       "      <td>30.2533</td>\n",
       "    </tr>\n",
       "    <tr>\n",
       "      <th>2016-02-11</th>\n",
       "      <td>38.3051</td>\n",
       "      <td>41.2095</td>\n",
       "      <td>38.1347</td>\n",
       "      <td>35.8676</td>\n",
       "      <td>35.1073</td>\n",
       "      <td>33.7847</td>\n",
       "      <td>33.4126</td>\n",
       "      <td>32.2234</td>\n",
       "      <td>31.2124</td>\n",
       "    </tr>\n",
       "    <tr>\n",
       "      <th>2016-02-12</th>\n",
       "      <td>35.6846</td>\n",
       "      <td>35.3849</td>\n",
       "      <td>35.6965</td>\n",
       "      <td>34.1404</td>\n",
       "      <td>33.8645</td>\n",
       "      <td>32.9590</td>\n",
       "      <td>32.8208</td>\n",
       "      <td>32.3189</td>\n",
       "      <td>31.8194</td>\n",
       "    </tr>\n",
       "  </tbody>\n",
       "</table>\n",
       "</div>"
      ],
      "text/plain": [
       "               V2TX     V6I1     V6I2     V6I3     V6I4     V6I5     V6I6  \\\n",
       "2016-02-08  33.3917  34.7251  33.2189  31.8308  31.4783  30.6941  30.3705   \n",
       "2016-02-09  33.9664  35.7884  33.7800  32.6220  32.2459  31.5572  31.1659   \n",
       "2016-02-10  33.4528  34.6020  33.3637  32.1438  32.0018  31.2099  30.9937   \n",
       "2016-02-11  38.3051  41.2095  38.1347  35.8676  35.1073  33.7847  33.4126   \n",
       "2016-02-12  35.6846  35.3849  35.6965  34.1404  33.8645  32.9590  32.8208   \n",
       "\n",
       "               V6I7     V6I8  \n",
       "2016-02-08  29.8478  29.2559  \n",
       "2016-02-09  30.5339  29.9000  \n",
       "2016-02-10  30.8174  30.2533  \n",
       "2016-02-11  32.2234  31.2124  \n",
       "2016-02-12  32.3189  31.8194  "
      ]
     },
     "execution_count": 43,
     "metadata": {},
     "output_type": "execute_result"
    }
   ],
   "source": [
    "vs = pd.read_csv('./data/vs.txt', index_col=0, header=2,\n",
    "                 parse_dates=True, sep=',', dayfirst=True)\n",
    "del vs.index.name\n",
    "vs.tail()"
   ]
  },
  {
   "cell_type": "code",
   "execution_count": 44,
   "metadata": {
    "collapsed": false
   },
   "outputs": [
    {
     "data": {
      "text/html": [
       "<div>\n",
       "<table border=\"1\" class=\"dataframe\">\n",
       "  <thead>\n",
       "    <tr style=\"text-align: right;\">\n",
       "      <th></th>\n",
       "      <th>EUROSTOXX</th>\n",
       "    </tr>\n",
       "  </thead>\n",
       "  <tbody>\n",
       "    <tr>\n",
       "      <th>1999-01-04</th>\n",
       "      <td>3543.10</td>\n",
       "    </tr>\n",
       "    <tr>\n",
       "      <th>1999-01-05</th>\n",
       "      <td>3604.67</td>\n",
       "    </tr>\n",
       "    <tr>\n",
       "      <th>1999-01-06</th>\n",
       "      <td>3685.36</td>\n",
       "    </tr>\n",
       "    <tr>\n",
       "      <th>1999-01-07</th>\n",
       "      <td>3627.87</td>\n",
       "    </tr>\n",
       "    <tr>\n",
       "      <th>1999-01-08</th>\n",
       "      <td>3616.57</td>\n",
       "    </tr>\n",
       "  </tbody>\n",
       "</table>\n",
       "</div>"
      ],
      "text/plain": [
       "            EUROSTOXX\n",
       "1999-01-04    3543.10\n",
       "1999-01-05    3604.67\n",
       "1999-01-06    3685.36\n",
       "1999-01-07    3627.87\n",
       "1999-01-08    3616.57"
      ]
     },
     "execution_count": 44,
     "metadata": {},
     "output_type": "execute_result"
    }
   ],
   "source": [
    "import datetime as dt\n",
    "\n",
    "sx5e = pd.DataFrame({'EUROSTOXX' : \n",
    "                    es['SX5E'][es.index > dt.datetime(1999, 1, 1)]})\n",
    "vst0xx = pd.DataFrame({'VSTOXX' : vs['V2TX'][vs.index > dt.datetime(1999, 1, 1)]})\n",
    "\n",
    "sx5e = sx5e[:3000]\n",
    "vst0xx = vst0xx[:3000]\n",
    "\n",
    "sx5e.head()"
   ]
  },
  {
   "cell_type": "code",
   "execution_count": 45,
   "metadata": {
    "collapsed": false
   },
   "outputs": [
    {
     "data": {
      "text/html": [
       "<div>\n",
       "<table border=\"1\" class=\"dataframe\">\n",
       "  <thead>\n",
       "    <tr style=\"text-align: right;\">\n",
       "      <th></th>\n",
       "      <th>VSTOXX</th>\n",
       "    </tr>\n",
       "  </thead>\n",
       "  <tbody>\n",
       "    <tr>\n",
       "      <th>1999-01-04</th>\n",
       "      <td>18.2033</td>\n",
       "    </tr>\n",
       "    <tr>\n",
       "      <th>1999-01-05</th>\n",
       "      <td>29.6912</td>\n",
       "    </tr>\n",
       "    <tr>\n",
       "      <th>1999-01-06</th>\n",
       "      <td>25.1670</td>\n",
       "    </tr>\n",
       "    <tr>\n",
       "      <th>1999-01-07</th>\n",
       "      <td>32.5205</td>\n",
       "    </tr>\n",
       "    <tr>\n",
       "      <th>1999-01-08</th>\n",
       "      <td>33.2296</td>\n",
       "    </tr>\n",
       "  </tbody>\n",
       "</table>\n",
       "</div>"
      ],
      "text/plain": [
       "             VSTOXX\n",
       "1999-01-04  18.2033\n",
       "1999-01-05  29.6912\n",
       "1999-01-06  25.1670\n",
       "1999-01-07  32.5205\n",
       "1999-01-08  33.2296"
      ]
     },
     "execution_count": 45,
     "metadata": {},
     "output_type": "execute_result"
    }
   ],
   "source": [
    "vst0xx.head()"
   ]
  },
  {
   "cell_type": "code",
   "execution_count": 46,
   "metadata": {
    "collapsed": false
   },
   "outputs": [
    {
     "data": {
      "text/html": [
       "<div>\n",
       "<table border=\"1\" class=\"dataframe\">\n",
       "  <thead>\n",
       "    <tr style=\"text-align: right;\">\n",
       "      <th></th>\n",
       "      <th>EUROSTOXX</th>\n",
       "      <th>VSTOXX</th>\n",
       "    </tr>\n",
       "  </thead>\n",
       "  <tbody>\n",
       "    <tr>\n",
       "      <th>2010-10-05</th>\n",
       "      <td>NaN</td>\n",
       "      <td>25.1130</td>\n",
       "    </tr>\n",
       "    <tr>\n",
       "      <th>2010-10-06</th>\n",
       "      <td>NaN</td>\n",
       "      <td>24.6471</td>\n",
       "    </tr>\n",
       "    <tr>\n",
       "      <th>2010-10-07</th>\n",
       "      <td>NaN</td>\n",
       "      <td>23.9852</td>\n",
       "    </tr>\n",
       "    <tr>\n",
       "      <th>2010-10-08</th>\n",
       "      <td>NaN</td>\n",
       "      <td>22.8174</td>\n",
       "    </tr>\n",
       "    <tr>\n",
       "      <th>2010-10-11</th>\n",
       "      <td>NaN</td>\n",
       "      <td>22.5377</td>\n",
       "    </tr>\n",
       "  </tbody>\n",
       "</table>\n",
       "</div>"
      ],
      "text/plain": [
       "            EUROSTOXX   VSTOXX\n",
       "2010-10-05        NaN  25.1130\n",
       "2010-10-06        NaN  24.6471\n",
       "2010-10-07        NaN  23.9852\n",
       "2010-10-08        NaN  22.8174\n",
       "2010-10-11        NaN  22.5377"
      ]
     },
     "execution_count": 46,
     "metadata": {},
     "output_type": "execute_result"
    }
   ],
   "source": [
    "frames = [sx5e, vst0xx]\n",
    "\n",
    "data = pd.concat(frames, axis=1)\n",
    "data.tail()"
   ]
  },
  {
   "cell_type": "code",
   "execution_count": 47,
   "metadata": {
    "collapsed": true
   },
   "outputs": [],
   "source": [
    "data = data.fillna(method='ffill')"
   ]
  },
  {
   "cell_type": "code",
   "execution_count": 48,
   "metadata": {
    "collapsed": false
   },
   "outputs": [
    {
     "data": {
      "text/html": [
       "<div>\n",
       "<table border=\"1\" class=\"dataframe\">\n",
       "  <thead>\n",
       "    <tr style=\"text-align: right;\">\n",
       "      <th></th>\n",
       "      <th>EUROSTOXX</th>\n",
       "      <th>VSTOXX</th>\n",
       "    </tr>\n",
       "  </thead>\n",
       "  <tbody>\n",
       "    <tr>\n",
       "      <th>2010-10-05</th>\n",
       "      <td>2802.67</td>\n",
       "      <td>25.1130</td>\n",
       "    </tr>\n",
       "    <tr>\n",
       "      <th>2010-10-06</th>\n",
       "      <td>2802.67</td>\n",
       "      <td>24.6471</td>\n",
       "    </tr>\n",
       "    <tr>\n",
       "      <th>2010-10-07</th>\n",
       "      <td>2802.67</td>\n",
       "      <td>23.9852</td>\n",
       "    </tr>\n",
       "    <tr>\n",
       "      <th>2010-10-08</th>\n",
       "      <td>2802.67</td>\n",
       "      <td>22.8174</td>\n",
       "    </tr>\n",
       "    <tr>\n",
       "      <th>2010-10-11</th>\n",
       "      <td>2802.67</td>\n",
       "      <td>22.5377</td>\n",
       "    </tr>\n",
       "  </tbody>\n",
       "</table>\n",
       "</div>"
      ],
      "text/plain": [
       "            EUROSTOXX   VSTOXX\n",
       "2010-10-05    2802.67  25.1130\n",
       "2010-10-06    2802.67  24.6471\n",
       "2010-10-07    2802.67  23.9852\n",
       "2010-10-08    2802.67  22.8174\n",
       "2010-10-11    2802.67  22.5377"
      ]
     },
     "execution_count": 48,
     "metadata": {},
     "output_type": "execute_result"
    }
   ],
   "source": [
    "data.tail()"
   ]
  },
  {
   "cell_type": "code",
   "execution_count": 49,
   "metadata": {
    "collapsed": false
   },
   "outputs": [
    {
     "name": "stdout",
     "output_type": "stream",
     "text": [
      "<class 'pandas.core.frame.DataFrame'>\n",
      "DatetimeIndex: 3016 entries, 1999-01-04 to 2010-10-11\n",
      "Data columns (total 2 columns):\n",
      "EUROSTOXX    3016 non-null float64\n",
      "VSTOXX       3016 non-null float64\n",
      "dtypes: float64(2)\n",
      "memory usage: 70.7 KB\n"
     ]
    }
   ],
   "source": [
    "data.info()"
   ]
  },
  {
   "cell_type": "code",
   "execution_count": 50,
   "metadata": {
    "collapsed": false
   },
   "outputs": [
    {
     "data": {
      "text/plain": [
       "array([<matplotlib.axes._subplots.AxesSubplot object at 0x7f3ec534ada0>,\n",
       "       <matplotlib.axes._subplots.AxesSubplot object at 0x7f3ec530cda0>], dtype=object)"
      ]
     },
     "execution_count": 50,
     "metadata": {},
     "output_type": "execute_result"
    },
    {
     "data": {
      "image/png": "[encoded data removed]",
      "text/plain": [
       "<matplotlib.figure.Figure at 0x7f3ec5388710>"
      ]
     },
     "metadata": {},
     "output_type": "display_data"
    }
   ],
   "source": [
    "data.plot(subplots=True, grid=True, style='b', figsize=(8, 6))"
   ]
  },
  {
   "cell_type": "code",
   "execution_count": 51,
   "metadata": {
    "collapsed": false
   },
   "outputs": [
    {
     "data": {
      "text/html": [
       "<div>\n",
       "<table border=\"1\" class=\"dataframe\">\n",
       "  <thead>\n",
       "    <tr style=\"text-align: right;\">\n",
       "      <th></th>\n",
       "      <th>EUROSTOXX</th>\n",
       "      <th>VSTOXX</th>\n",
       "    </tr>\n",
       "  </thead>\n",
       "  <tbody>\n",
       "    <tr>\n",
       "      <th>1999-01-04</th>\n",
       "      <td>NaN</td>\n",
       "      <td>NaN</td>\n",
       "    </tr>\n",
       "    <tr>\n",
       "      <th>1999-01-05</th>\n",
       "      <td>0.017228</td>\n",
       "      <td>0.489248</td>\n",
       "    </tr>\n",
       "    <tr>\n",
       "      <th>1999-01-06</th>\n",
       "      <td>0.022138</td>\n",
       "      <td>-0.165317</td>\n",
       "    </tr>\n",
       "    <tr>\n",
       "      <th>1999-01-07</th>\n",
       "      <td>-0.015723</td>\n",
       "      <td>0.256337</td>\n",
       "    </tr>\n",
       "    <tr>\n",
       "      <th>1999-01-08</th>\n",
       "      <td>-0.003120</td>\n",
       "      <td>0.021570</td>\n",
       "    </tr>\n",
       "  </tbody>\n",
       "</table>\n",
       "</div>"
      ],
      "text/plain": [
       "            EUROSTOXX    VSTOXX\n",
       "1999-01-04        NaN       NaN\n",
       "1999-01-05   0.017228  0.489248\n",
       "1999-01-06   0.022138 -0.165317\n",
       "1999-01-07  -0.015723  0.256337\n",
       "1999-01-08  -0.003120  0.021570"
      ]
     },
     "execution_count": 51,
     "metadata": {},
     "output_type": "execute_result"
    }
   ],
   "source": [
    "# log returns\n",
    "rets = np.log(data / data.shift(1))\n",
    "rets.head()"
   ]
  },
  {
   "cell_type": "code",
   "execution_count": 52,
   "metadata": {
    "collapsed": false
   },
   "outputs": [
    {
     "data": {
      "text/plain": [
       "array([<matplotlib.axes._subplots.AxesSubplot object at 0x7f3ec5193240>,\n",
       "       <matplotlib.axes._subplots.AxesSubplot object at 0x7f3ec50b2630>], dtype=object)"
      ]
     },
     "execution_count": 52,
     "metadata": {},
     "output_type": "execute_result"
    },
    {
     "data": {
      "image/png": "[encoded data removed]",
      "text/plain": [
       "<matplotlib.figure.Figure at 0x7f3ec5611470>"
      ]
     },
     "metadata": {},
     "output_type": "display_data"
    }
   ],
   "source": [
    "rets.plot(subplots=True, grid=True, style='b', figsize=(8, 6))"
   ]
  },
  {
   "cell_type": "code",
   "execution_count": 62,
   "metadata": {
    "collapsed": false
   },
   "outputs": [
    {
     "name": "stdout",
     "output_type": "stream",
     "text": [
      "                            OLS Regression Results                            \n",
      "==============================================================================\n",
      "Dep. Variable:                 VSTOXX   R-squared:                         nan\n",
      "Model:                            OLS   Adj. R-squared:                    nan\n",
      "Method:                 Least Squares   F-statistic:                       nan\n",
      "Date:                Sun, 24 Jul 2016   Prob (F-statistic):                nan\n",
      "Time:                        20:25:22   Log-Likelihood:                    nan\n",
      "No. Observations:                3016   AIC:                               nan\n",
      "Df Residuals:                    3015   BIC:                               nan\n",
      "Df Model:                           1                                         \n",
      "Covariance Type:            nonrobust                                         \n",
      "==============================================================================\n",
      "                 coef    std err          t      P>|t|      [95.0% Conf. Int.]\n",
      "------------------------------------------------------------------------------\n",
      "EUROSTOXX         nan        nan        nan        nan           nan       nan\n",
      "==============================================================================\n",
      "Omnibus:                          nan   Durbin-Watson:                     nan\n",
      "Prob(Omnibus):                    nan   Jarque-Bera (JB):                  nan\n",
      "Skew:                             nan   Prob(JB):                          nan\n",
      "Kurtosis:                         nan   Cond. No.                         1.00\n",
      "==============================================================================\n",
      "\n",
      "Warnings:\n",
      "[1] Standard Errors assume that the covariance matrix of the errors is correctly specified.\n"
     ]
    }
   ],
   "source": [
    "import statsmodels.api as sm\n",
    "\n",
    "xdat = rets['EUROSTOXX']\n",
    "ydat = rets['VSTOXX']\n",
    "model = sm.OLS(ydat, xdat)\n",
    "res = model.fit()\n",
    "print(res.summary())"
   ]
  }
 ],
 "metadata": {
  "anaconda-cloud": {},
  "kernelspec": {
   "display_name": "Python [Root]",
   "language": "python",
   "name": "Python [Root]"
  },
  "language_info": {
   "codemirror_mode": {
    "name": "ipython",
    "version": 3
   },
   "file_extension": ".py",
   "mimetype": "text/x-python",
   "name": "python",
   "nbconvert_exporter": "python",
   "pygments_lexer": "ipython3",
   "version": "3.5.2"
  }
 },
 "nbformat": 4,
 "nbformat_minor": 0
}
